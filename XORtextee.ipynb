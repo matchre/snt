{
  "nbformat": 4,
  "nbformat_minor": 0,
  "metadata": {
    "colab": {
      "name": "XORtexte.ipynb",
      "version": "0.3.2",
      "provenance": [],
      "collapsed_sections": []
    },
    "kernelspec": {
      "display_name": "Python 3",
      "language": "python",
      "name": "python3"
    }
  },
  "cells": [
    {
      "metadata": {
        "colab_type": "text",
        "id": "-5J6QzrNdB-m"
      },
      "cell_type": "markdown",
      "source": [
        "## I.CODAGE/DECODAGE D'UN SEUL MOT\n",
        "On veut coder le texte avec la clé "
      ]
    },
    {
      "metadata": {
        "id": "CsWT9JYtv5vP",
        "colab_type": "code",
        "colab": {},
        "outputId": "cbacb0b6-f92e-4d96-f057-8b773a19ebe1"
      },
      "cell_type": "code",
      "source": [
        "!pip install numpy"
      ],
      "execution_count": 0,
      "outputs": [
        {
          "output_type": "stream",
          "text": [
            "Collecting numpy\n",
            "\u001b[?25l  Downloading https://files.pythonhosted.org/packages/7b/74/54c5f9bb9bd4dae27a61ec1b39076a39d359b3fb7ba15da79ef23858a9d8/numpy-1.16.0-cp36-cp36m-manylinux1_x86_64.whl (17.3MB)\n",
            "\u001b[K    100% |████████████████████████████████| 17.3MB 869kB/s eta 0:00:01   15% |█████▏                          | 2.8MB 38.7MB/s eta 0:00:01\n",
            "\u001b[?25hInstalling collected packages: numpy\n",
            "Successfully installed numpy-1.16.0\n"
          ],
          "name": "stdout"
        }
      ]
    },
    {
      "metadata": {
        "colab_type": "code",
        "id": "1nCbkqgcW6-u",
        "colab": {}
      },
      "cell_type": "code",
      "source": [
        "import numpy as np\n",
        "texte=\"NEWYORK\"\n",
        "cle=\"CARACAS\"\n",
        "\n",
        "\n"
      ],
      "execution_count": 0,
      "outputs": []
    },
    {
      "metadata": {
        "colab_type": "text",
        "id": "xq3c7U9ObAXz"
      },
      "cell_type": "markdown",
      "source": [
        ""
      ]
    },
    {
      "metadata": {
        "colab_type": "code",
        "id": "-ABiekolbBUG",
        "outputId": "15f6215b-d5b5-4946-d968-45f7031acb48",
        "colab": {
          "base_uri": "https://localhost:8080/",
          "height": 35
        }
      },
      "cell_type": "code",
      "source": [
        "t=[]\n",
        "for l in texte:\n",
        "    t.append(ord(l))\n",
        "t"
      ],
      "execution_count": 0,
      "outputs": [
        {
          "output_type": "execute_result",
          "data": {
            "text/plain": [
              "[78, 69, 87, 89, 79, 82, 75]"
            ]
          },
          "metadata": {
            "tags": []
          },
          "execution_count": 5
        }
      ]
    },
    {
      "metadata": {
        "colab_type": "text",
        "id": "Us53jwS4bBqL"
      },
      "cell_type": "markdown",
      "source": [
        "à quoi correspondent ces nombres?"
      ]
    },
    {
      "metadata": {
        "colab_type": "code",
        "id": "RpCupLSobB2E",
        "outputId": "fbe7219d-9b50-4f37-d66b-48a1f5941205",
        "colab": {
          "base_uri": "https://localhost:8080/",
          "height": 35
        }
      },
      "cell_type": "code",
      "source": [
        "c=[]\n",
        "for l in cle:\n",
        "    c.append(ord(l))\n",
        "c"
      ],
      "execution_count": 0,
      "outputs": [
        {
          "output_type": "execute_result",
          "data": {
            "text/plain": [
              "[67, 65, 82, 65, 67, 65, 83]"
            ]
          },
          "metadata": {
            "tags": []
          },
          "execution_count": 6
        }
      ]
    },
    {
      "metadata": {
        "colab_type": "text",
        "id": "G1mRwAAbbCI0"
      },
      "cell_type": "markdown",
      "source": [
        "et ceux ci?\n",
        "\n"
      ]
    },
    {
      "metadata": {
        "colab_type": "code",
        "id": "t_FLJqt_bk0B",
        "outputId": "8865e5b0-47c2-4116-97ef-8dece19d89e1",
        "colab": {
          "base_uri": "https://localhost:8080/",
          "height": 52
        }
      },
      "cell_type": "code",
      "source": [
        "m=[]\n",
        "for i in range(len(c)):\n",
        "    m.append(np.bitwise_xor(t[i], c[i]))\n",
        "print(m)\n",
        "messagecode=''\n",
        "for nbre in m:\n",
        "  messagecode=messagecode+chr(nbre)\n",
        "messagecode \n"
      ],
      "execution_count": 0,
      "outputs": [
        {
          "output_type": "stream",
          "text": [
            "[13, 4, 5, 24, 12, 19, 24]\n"
          ],
          "name": "stdout"
        },
        {
          "output_type": "execute_result",
          "data": {
            "text/plain": [
              "'\\r\\x04\\x05\\x18\\x0c\\x13\\x18'"
            ]
          },
          "metadata": {
            "tags": []
          },
          "execution_count": 7
        }
      ]
    },
    {
      "metadata": {
        "colab_type": "text",
        "id": "u2wa0X1xc_ON"
      },
      "cell_type": "markdown",
      "source": [
        "que représentent les variables m et messagecode ?"
      ]
    },
    {
      "metadata": {
        "colab_type": "code",
        "id": "De_DZu7SbvkM",
        "outputId": "da8da5cb-e846-4e9b-eade-607d692f9509",
        "colab": {
          "base_uri": "https://localhost:8080/",
          "height": 35
        }
      },
      "cell_type": "code",
      "source": [
        "d=[]\n",
        "D=\"\"\n",
        "for i in range(len(c)):\n",
        "    d.append(np.bitwise_xor(m[i], c[i]))\n",
        "    D=D+chr(d[i])\n",
        "\n",
        "print(\"message decode\",D)"
      ],
      "execution_count": 0,
      "outputs": [
        {
          "output_type": "stream",
          "text": [
            "message decode NEWYORK\n"
          ],
          "name": "stdout"
        }
      ]
    },
    {
      "metadata": {
        "colab_type": "text",
        "id": "2Y7ocIL_d6JP"
      },
      "cell_type": "markdown",
      "source": [
        "# II.Codage/Decodage d'un texte\n",
        "On va créer une fonction qui va faire en plus condensé ce qui précède"
      ]
    },
    {
      "metadata": {
        "colab_type": "code",
        "id": "y78-lyEYeNjb",
        "outputId": "47995a0a-cece-4798-90f5-5b08542df8d4",
        "colab": {
          "base_uri": "https://localhost:8080/",
          "height": 35
        }
      },
      "cell_type": "code",
      "source": [
        "def codage(texte,cle):\n",
        "  t=[]\n",
        "  for l in texte:\n",
        "    t.append(ord(l))\n",
        "  c=[]\n",
        "  for l in cle:\n",
        "    c.append(ord(l))\n",
        "  m=[]\n",
        "  for i in range(len(c)):\n",
        "    m.append(np.bitwise_xor(t[i], c[i]))\n",
        "  messagecode=''\n",
        "  for nbre in m:\n",
        "    messagecode=messagecode+chr(nbre) \n",
        "  return(messagecode)\n",
        "\n",
        "\n",
        "codage('NEWYORK','CARACAS')\n"
      ],
      "execution_count": 0,
      "outputs": [
        {
          "output_type": "execute_result",
          "data": {
            "text/plain": [
              "'\\r\\x04\\x05\\x18\\x0c\\x13\\x18'"
            ]
          },
          "metadata": {
            "tags": []
          },
          "execution_count": 9
        }
      ]
    },
    {
      "metadata": {
        "colab_type": "code",
        "id": "Lz_eAuNEfPI2",
        "outputId": "98693d02-e50e-4e6c-cc7a-f9fc0d839c69",
        "colab": {
          "base_uri": "https://localhost:8080/",
          "height": 52
        }
      },
      "cell_type": "code",
      "source": [
        "def DEcodage(messagecode,cle):\n",
        "  t=[]\n",
        "  for l in messagecode:\n",
        "    t.append(ord(l))\n",
        "  \n",
        "  c=[]\n",
        "  for l in cle:\n",
        "    c.append(ord(l))\n",
        "  m=[]\n",
        "  for i in range(len(c)):\n",
        "    m.append(np.bitwise_xor(t[i], c[i]))\n",
        "  messagecode=''\n",
        "  for nbre in m:\n",
        "    messagecode=messagecode+chr(nbre) \n",
        "  return(messagecode)\n",
        "\n",
        "\n",
        "DEcodage(codage('NEWYORK','CARACAS'),'CARACAS')\n"
      ],
      "execution_count": 0,
      "outputs": [
        {
          "output_type": "execute_result",
          "data": {
            "text/plain": [
              "'NEWYORK'"
            ]
          },
          "metadata": {
            "tags": []
          },
          "execution_count": 10
        }
      ]
    },
    {
      "metadata": {
        "colab_type": "text",
        "id": "T-OIiXPFhynw"
      },
      "cell_type": "markdown",
      "source": [
        "ça marche, modifions un peu"
      ]
    },
    {
      "metadata": {
        "colab_type": "code",
        "id": "2OHnwyshh6l7",
        "outputId": "07180111-09ed-45b5-f8eb-d96597285be3",
        "colab": {
          "base_uri": "https://localhost:8080/",
          "height": 35
        }
      },
      "cell_type": "code",
      "source": [
        "codage('NEWYORK','CARACA')\n",
        "DEcodage(codage('NEWYORK','CARACA'),'CARACA')"
      ],
      "execution_count": 0,
      "outputs": [
        {
          "output_type": "execute_result",
          "data": {
            "text/plain": [
              "'NEWYOR'"
            ]
          },
          "metadata": {
            "tags": []
          },
          "execution_count": 11
        }
      ]
    },
    {
      "metadata": {
        "colab_type": "text",
        "id": "Cma0lr5ZiF0P"
      },
      "cell_type": "markdown",
      "source": [
        "quel est le problème?"
      ]
    },
    {
      "metadata": {
        "colab_type": "code",
        "id": "fJEJUCG9iIHc",
        "outputId": "d798ec1f-748e-4b6d-960f-325ad3489bd3",
        "colab": {
          "base_uri": "https://localhost:8080/",
          "height": 35
        }
      },
      "cell_type": "code",
      "source": [
        "cle=2*'CARACASS'\n",
        "texte='NEWYORK IS MAGIC'\n",
        "codage(texte,cle)\n",
        "DEcodage(codage(texte,cle),cle)"
      ],
      "execution_count": 0,
      "outputs": [
        {
          "output_type": "execute_result",
          "data": {
            "text/plain": [
              "'NEWYORK IS MAGIC'"
            ]
          },
          "metadata": {
            "tags": []
          },
          "execution_count": 12
        }
      ]
    },
    {
      "metadata": {
        "colab_type": "text",
        "id": "HMi24ehsirdH"
      },
      "cell_type": "markdown",
      "source": [
        "qu'a-t-on fait?"
      ]
    },
    {
      "metadata": {
        "colab_type": "text",
        "id": "xl1igT_qix_6"
      },
      "cell_type": "markdown",
      "source": [
        "On veut coder le texte suivant"
      ]
    },
    {
      "metadata": {
        "colab_type": "code",
        "id": "VlCQk8mCi8YD",
        "outputId": "ba0df2ef-8aa7-448f-a57e-071555e1c6ba",
        "colab": {
          "base_uri": "https://localhost:8080/",
          "height": 35
        }
      },
      "cell_type": "code",
      "source": [
        "texte='Une demande de la physique amene parfois la naissance de theories caillouteuses  le praticien est presse le mathematicien fignole ensuite son travail et la route raboteuse devient une belle autostrade sur laquelle le praticien roule sans difficultes  Le physicien taille son chemin a la serpe  a la pelle  a la pioche  Les mathematiciens trouvent le sentier interessant  lamenagent  Si le physicien a besoin que son chemin soit plus large ou aille plus loin  le mathematicien arrive avec son bulldozer  Puis il perfectionne  et ainsi de suite  Parfois même il trace une route qui traverse une region ou le physicien ne sent pas le besoin daller ; puis vient un temps ou le physicien eprouve le besoin de voir un peu de ce côte-la et il se rejouit de trouver la route prête   Raymond Queneau'\n",
        "len(texte)"
      ],
      "execution_count": 0,
      "outputs": [
        {
          "output_type": "execute_result",
          "data": {
            "text/plain": [
              "790"
            ]
          },
          "metadata": {
            "tags": []
          },
          "execution_count": 13
        }
      ]
    },
    {
      "metadata": {
        "colab_type": "text",
        "id": "2HyBay18kEV5"
      },
      "cell_type": "markdown",
      "source": [
        "faites les modifications nécessaires sur la cle"
      ]
    },
    {
      "metadata": {
        "colab_type": "code",
        "id": "RhTtBhiIkPYu",
        "outputId": "3f9cde74-ce2d-479d-c6a6-7b5131ef13eb",
        "colab": {
          "base_uri": "https://localhost:8080/",
          "height": 35
        }
      },
      "cell_type": "code",
      "source": [
        "cle=2*'CARACASS' #a modifier\n",
        "codage(texte,cle)\n",
        "DEcodage(codage(texte,cle),cle)"
      ],
      "execution_count": 0,
      "outputs": [
        {
          "output_type": "execute_result",
          "data": {
            "text/plain": [
              "'Une demande de l'"
            ]
          },
          "metadata": {
            "tags": []
          },
          "execution_count": 14
        }
      ]
    },
    {
      "metadata": {
        "colab_type": "text",
        "id": "5NhfemJtkOB1"
      },
      "cell_type": "markdown",
      "source": [
        ""
      ]
    },
    {
      "metadata": {
        "colab_type": "text",
        "id": "B6bCiVRhkmwp"
      },
      "cell_type": "markdown",
      "source": [
        "# III.IMAGE XOR"
      ]
    },
    {
      "metadata": {
        "id": "NUlaNxSnv5xM",
        "colab_type": "code",
        "colab": {},
        "outputId": "a0cf7a26-f8f4-4193-906c-36cab5b891cd"
      },
      "cell_type": "code",
      "source": [
        "!pip install opencv-python \n",
        "!pip install matplotlib\n"
      ],
      "execution_count": 0,
      "outputs": [
        {
          "output_type": "stream",
          "text": [
            "Requirement already satisfied: opencv-python in /srv/conda/lib/python3.6/site-packages (4.0.0.21)\n",
            "Requirement already satisfied: numpy>=1.11.3 in /srv/conda/lib/python3.6/site-packages (from opencv-python) (1.16.0)\n",
            "Collecting matplotlib\n",
            "\u001b[?25l  Downloading https://files.pythonhosted.org/packages/71/07/16d781df15be30df4acfd536c479268f1208b2dfbc91e9ca5d92c9caf673/matplotlib-3.0.2-cp36-cp36m-manylinux1_x86_64.whl (12.9MB)\n",
            "\u001b[K    100% |████████████████████████████████| 12.9MB 1.0MB/s eta 0:00:01   54% |█████████████████▌              | 7.0MB 50.9MB/s eta 0:00:01\n",
            "\u001b[?25hCollecting pyparsing!=2.0.4,!=2.1.2,!=2.1.6,>=2.0.1 (from matplotlib)\n",
            "\u001b[?25l  Downloading https://files.pythonhosted.org/packages/de/0a/001be530836743d8be6c2d85069f46fecf84ac6c18c7f5fb8125ee11d854/pyparsing-2.3.1-py2.py3-none-any.whl (61kB)\n",
            "\u001b[K    100% |████████████████████████████████| 71kB 24.3MB/s ta 0:00:01\n",
            "\u001b[?25hRequirement already satisfied: python-dateutil>=2.1 in /srv/conda/lib/python3.6/site-packages (from matplotlib) (2.7.5)\n",
            "Collecting kiwisolver>=1.0.1 (from matplotlib)\n",
            "\u001b[?25l  Downloading https://files.pythonhosted.org/packages/69/a7/88719d132b18300b4369fbffa741841cfd36d1e637e1990f27929945b538/kiwisolver-1.0.1-cp36-cp36m-manylinux1_x86_64.whl (949kB)\n",
            "\u001b[K    100% |████████████████████████████████| 952kB 11.8MB/s ta 0:00:01\n",
            "\u001b[?25hCollecting cycler>=0.10 (from matplotlib)\n",
            "  Downloading https://files.pythonhosted.org/packages/f7/d2/e07d3ebb2bd7af696440ce7e754c59dd546ffe1bbe732c8ab68b9c834e61/cycler-0.10.0-py2.py3-none-any.whl\n",
            "Requirement already satisfied: numpy>=1.10.0 in /srv/conda/lib/python3.6/site-packages (from matplotlib) (1.16.0)\n",
            "Requirement already satisfied: six>=1.5 in /srv/conda/lib/python3.6/site-packages (from python-dateutil>=2.1->matplotlib) (1.12.0)\n",
            "Requirement already satisfied: setuptools in /srv/conda/lib/python3.6/site-packages (from kiwisolver>=1.0.1->matplotlib) (40.6.3)\n",
            "Installing collected packages: pyparsing, kiwisolver, cycler, matplotlib\n",
            "Successfully installed cycler-0.10.0 kiwisolver-1.0.1 matplotlib-3.0.2 pyparsing-2.3.1\n"
          ],
          "name": "stdout"
        }
      ]
    },
    {
      "metadata": {
        "colab_type": "code",
        "id": "GusB2T-0ksAo",
        "outputId": "d3c3c38e-2714-4014-9f92-21988c2dde68",
        "colab": {
          "base_uri": "https://localhost:8080/",
          "height": 993
        }
      },
      "cell_type": "code",
      "source": [
        "import numpy as np\n",
        "import matplotlib.pyplot as plt\n",
        "%matplotlib inline\n",
        "import cv2 as cv\n",
        "from matplotlib import pyplot as plt\n",
        "\n",
        "img1 = cv.imread('crypted.png')\n",
        "img2 = cv.imread('key.png')\n",
        "img1 = cv.bitwise_xor(img1,img2)\n",
        "\n",
        "cv.imwrite(\"res.jpg\",img1)\n",
        "plt.imshow(img1)\n",
        "plt.show()\n",
        "\n"
      ],
      "execution_count": 0,
      "outputs": [
        {
          "output_type": "display_data",
          "data": {
            "image/png": "[encoded data removed]",
            "text/plain": [
              "<Figure size 432x288 with 1 Axes>"
            ]
          },
          "metadata": {
            "tags": [],
            "needs_background": "light"
          }
        }
      ]
    },
    {
      "metadata": {
        "colab_type": "code",
        "id": "iitkMQQQloOV",
        "colab": {}
      },
      "cell_type": "code",
      "source": [
        ""
      ],
      "execution_count": 0,
      "outputs": []
    }
  ]
}