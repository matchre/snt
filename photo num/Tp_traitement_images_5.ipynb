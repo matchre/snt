{
 "cells": [
  {
   "cell_type": "markdown",
   "metadata": {},
   "source": [
    "# Traitement de l'image TP n° 5"
   ]
  },
  {
   "cell_type": "markdown",
   "metadata": {},
   "source": [
    "<hr>\n",
    "Écrire votre nom ici \n",
    "\n",
    "Nom : \n",
    "<hr>"
   ]
  },
  {
   "cell_type": "markdown",
   "metadata": {},
   "source": [
    "## L'image pour ce TP\n",
    "\n",
    "Téléchargez <a href=\"http://isn-icn-ljm.pagesperso-orange.fr/photo/median1.jpg\">cette image</a> ( enregistrer l'image sous...)\n",
    "\n",
    "et placez là dans le dossier de ce notebook\n",
    "<p style=\"text-align:left\";>\n",
    "<img src=\"http://isn-icn-ljm.pagesperso-orange.fr/photo/median1.jpg\" width=\"204px\" height=\"160px\">\n",
    "</p>\n",
    "Pour utiliser/manipuler des images en Python, il faut utiliser une bibliothèque.\n",
    "\n",
    "Nous utiliserons la bibliothèque: **pillow**\n",
    "\n",
    "Si elle n'est pas déjà installée : "
   ]
  },
  {
   "cell_type": "code",
   "execution_count": null,
   "metadata": {},
   "outputs": [],
   "source": [
    "#pip install pillow"
   ]
  },
  {
   "cell_type": "markdown",
   "metadata": {},
   "source": [
    "<hr>\n",
    "\n",
    "## Filtre médian \n",
    "\n",
    "**Réaliser un filtre médian consiste à partir d'une image en niveau de gris:**\n",
    "* À remplacer chaque pixel par la valeur médiane de ce pixel et de ses 8 voisins \n",
    "* On ne tiendra pas compte des bords de l'image ( ils n'ont pas 8 voisins..)\n",
    "\n",
    "**Le principe**\n",
    "* Comme l'image est en niveau de gris les composantes (r , v , b) sont égales\n",
    "* On stocke dans une liste les valeurs du pixel et de ses 8 voisins\n",
    "* On trie la liste par ordre croissant\n",
    "* On récupère la cinquième valeur ( la médiane )\n",
    "* Le pixel prendra alors cette valeur\n",
    "\n",
    "**Voici le programme qui réalise cette transformation:**\n",
    "\n"
   ]
  },
  {
   "cell_type": "code",
   "execution_count": null,
   "metadata": {},
   "outputs": [],
   "source": [
    "from PIL import Image\n",
    "from pylab import *\n",
    "\n",
    "# chargement des images\n",
    "img=Image.open(\"median1.jpg\").convert(\"RGB\")\n",
    "largeur,hauteur=img.size\n",
    "#création d'une image vide\n",
    "# img2=Image.new('RGB',(largeur,hauteur))\n",
    "\n",
    "#traitement\n",
    "def median(img):\n",
    "    #création d'une image vide\n",
    "    img2=Image.new('RGB',(largeur,hauteur))\n",
    "    for y in range(1,hauteur-1,1):\n",
    "        for x in range(1,largeur-1,1):\n",
    "            liste=[]\n",
    "            r1,v1,b1=img.getpixel((x-1,y-1))\n",
    "            liste.append(r1)# stockage de la valeur dans la liste\n",
    "            r2,v2,b2=img.getpixel((x,y-1))\n",
    "            liste.append(r2)\n",
    "            r3,v3,b3=img.getpixel((x+1,y-1))\n",
    "            liste.append(r3)\n",
    "            r4,v4,b4=img.getpixel((x-1,y))\n",
    "            liste.append(r4)\n",
    "            r5,v5,b5=img.getpixel((x,y))\n",
    "            liste.append(r5)\n",
    "            r6,v6,b6=img.getpixel((x+1,y))\n",
    "            liste.append(r6)\n",
    "            r7,v7,b7=img.getpixel((x-1,y+1))\n",
    "            liste.append(r7)\n",
    "            r8,v8,b8=img.getpixel((x,y+1))\n",
    "            liste.append(r8)\n",
    "            r9,v9,b9=img.getpixel((x+1,y+1))\n",
    "            liste.append(r9)\n",
    "            liste.sort()# tri de la liste\n",
    "            r=liste[4] # récupération de la médiane\n",
    "            img2.putpixel((x,y),(r,r,r))\n",
    "    return(img2)\n",
    "\n",
    "var=median(img)# appel de la fonction median()\n",
    "display(var)"
   ]
  },
  {
   "cell_type": "markdown",
   "metadata": {},
   "source": [
    "<hr> \n",
    "\n",
    "## À faire:\n",
    "\n",
    "**Comme vous le constatez l'image s'est améliorée...**\n",
    "\n",
    "**Comment faire pour l'améliorer encore ?**\n"
   ]
  },
  {
   "cell_type": "code",
   "execution_count": null,
   "metadata": {},
   "outputs": [],
   "source": [
    "# Écrire le programme qui améliore une seconde fois cette image"
   ]
  },
  {
   "cell_type": "markdown",
   "metadata": {},
   "source": [
    "<hr> \n",
    "\n",
    "## À faire:\n",
    "\n",
    "**Reprendre l'ensemble avec ces images**\n",
    "\n",
    "\n",
    "\n",
    "\n",
    "Téléchargez <a href=\"http://isn-icn-ljm.pagesperso-orange.fr/photo/median2.jpg\">cette image</a> ( enregistrer l'image sous...)\n",
    "\n",
    "Téléchargez <a href=\"http://isn-icn-ljm.pagesperso-orange.fr/photo/median3.png\">cette image</a> ( enregistrer l'image sous...)\n",
    "\n",
    "et placez là dans le dossier de ce notebook\n",
    "<p style=\"text-align:left\";>\n",
    "<img src=\"http://isn-icn-ljm.pagesperso-orange.fr/photo/median2.jpg\" width=\"204px\" height=\"160px\">\n",
    " <img src=\"http://isn-icn-ljm.pagesperso-orange.fr/photo/median3.png\" width=\"204px\" height=\"160px\">\n",
    "</p>\n"
   ]
  },
  {
   "cell_type": "code",
   "execution_count": null,
   "metadata": {},
   "outputs": [],
   "source": [
    "# code 1"
   ]
  },
  {
   "cell_type": "code",
   "execution_count": null,
   "metadata": {},
   "outputs": [],
   "source": [
    "# code 2"
   ]
  }
 ],
 "metadata": {
  "kernelspec": {
   "display_name": "Python 3",
   "language": "python",
   "name": "python3"
  },
  "language_info": {
   "codemirror_mode": {
    "name": "ipython",
    "version": 3
   },
   "file_extension": ".py",
   "mimetype": "text/x-python",
   "name": "python",
   "nbconvert_exporter": "python",
   "pygments_lexer": "ipython3",
   "version": "3.7.2"
  }
 },
 "nbformat": 4,
 "nbformat_minor": 2
}
