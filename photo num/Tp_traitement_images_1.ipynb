{
 "cells": [
  {
   "cell_type": "markdown",
   "metadata": {},
   "source": [
    "# Traitement de l'image TP n° 1"
   ]
  },
  {
   "cell_type": "markdown",
   "metadata": {},
   "source": [
    "<hr>\n",
    "Écrire votre nom ici \n",
    "\n",
    "Nom : \n",
    "<hr>"
   ]
  },
  {
   "cell_type": "markdown",
   "metadata": {},
   "source": [
    "## Commençons par faire afficher une image\n",
    "\n",
    "Téléchargez <a href=\"http://isn-icn-ljm.pagesperso-orange.fr/photo/joconde.png\">cette image</a> ( enregistrer l'image sous...)\n",
    "\n",
    "et placez là dans le dossier de ce notebook\n",
    "<p style=\"text-align:left\";>\n",
    "<img src=\"http://isn-icn-ljm.pagesperso-orange.fr/photo/joconde.png\" width=\"204px\" height=\"160px\">\n",
    "</p>\n",
    "Pour utiliser/manipuler des images en Python, il faut utiliser une bibliothèque.\n",
    "\n",
    "Nous utiliserons la bibliothèque: **pillow**\n",
    "\n",
    "Si elle n'est pas déjà installée : "
   ]
  },
  {
   "cell_type": "code",
   "execution_count": null,
   "metadata": {},
   "outputs": [],
   "source": [
    "#pip install pillow"
   ]
  },
  {
   "cell_type": "markdown",
   "metadata": {},
   "source": [
    "**Le code suivant affiche l'image**\n",
    "\n",
    "**Exécutez le**"
   ]
  },
  {
   "cell_type": "code",
   "execution_count": null,
   "metadata": {},
   "outputs": [],
   "source": [
    "#import de la bibliothèque\n",
    "from PIL import Image\n",
    "# chargement de l'image\n",
    "img=Image.open(\"joconde.png\")\n",
    "\n",
    "#affichage de l'image\n",
    "display(img)"
   ]
  },
  {
   "cell_type": "markdown",
   "metadata": {},
   "source": [
    "## Composition d'une image\n",
    "\n",
    "* Une image peut être assimilée à un tableau de pixels\n",
    "* Chaque pixel est constitué d'une couleur\n",
    "* Une couleur est un mélange de trois couleurs ( rouge, vert , bleu, alpha ) alpha gère l'opacité de l'image\n",
    "     * (0,0,0) pour le noir\n",
    "     * (255,255,255) pour le blanc\n",
    "     * ( 255,0,0) pour du rouge\n",
    "     * etc ..\n",
    "\n",
    "***Une image est donc constituée de pixels qui contiennent une couleur***\n",
    "<hr>\n",
    "\n",
    "## Se repérer dans l'image\n",
    "\n",
    "Imaginons une image de 10 X 10 pixels:\n",
    "\n",
    "On peut la représenter par le tableau suivant :\n",
    "\n",
    "<p style=\"text-align:left\";>\n",
    "<img src=\"http://isn-icn-ljm.pagesperso-orange.fr/photo/tableau.png\" width=\"500px\" height=\"500px\">\n",
    "</p>\n",
    "\n",
    "**Ainsi le pixel 65 a pour coordonnées : ( 5 , 6 )**\n",
    "\n",
    "<hr>\n",
    "    \n",
    "**Le code suivant donne les dimensions de notre image**\n",
    "\n",
    "**Exécutez le**"
   ]
  },
  {
   "cell_type": "code",
   "execution_count": null,
   "metadata": {},
   "outputs": [],
   "source": [
    "#import de la bibliothèque\n",
    "from PIL import Image\n",
    "# chargement de l'image\n",
    "img=Image.open(\"joconde.png\")\n",
    "# on récupère les dimensions dans les variables largeur et hauteur\n",
    "largeur,hauteur=img.size\n",
    "#affichage du résultat\n",
    "print(largeur,\" X \",hauteur,\" pixels\")\n"
   ]
  },
  {
   "cell_type": "markdown",
   "metadata": {},
   "source": [
    "**Le code suivant affiche la couleur d'un pixel au hasard dans l'image**\n",
    "\n",
    "La bibliothèque random et la méthode randint ( random.randint( a , b) ) permet de choisir au hasard un nombre entier entre a et b \n",
    "\n",
    "**Exécutez le**"
   ]
  },
  {
   "cell_type": "code",
   "execution_count": null,
   "metadata": {},
   "outputs": [],
   "source": [
    "#import de la bibliothèque\n",
    "from PIL import Image\n",
    "import random\n",
    "# chargement de l'image\n",
    "img=Image.open(\"joconde.png\")\n",
    "\n",
    "#on récupère les dimensions\n",
    "largeur,hauteur=img.size\n",
    "\n",
    "# choix d'un pixel et récupération de la couleur\n",
    "x=random.randint(0,largeur)\n",
    "y=random.randint(0,hauteur)\n",
    "pixel=img.getpixel((x,y))\n",
    "\n",
    "#affichage du résultat\n",
    "print(\" La couleur du pixel \",(x,y),\" est \",pixel)"
   ]
  },
  {
   "cell_type": "markdown",
   "metadata": {},
   "source": [
    "## Récupérer les composantes ( rouge, vert , bleu , alpha) d'un pixel\n",
    "\n",
    "Comme on le constate avec le programme ci-dessus, la variable pixel contient 4 valeurs : **( rouge, vert , bleu , alpha)**\n",
    "\n",
    "**Pour atteindre un élément de pixel :**\n",
    "\n",
    "* rouge=pixel[0]\n",
    "* vert=pixel[1]\n",
    "* bleu=pixel[2]\n",
    "* alpha=pixel[3]\n",
    "\n",
    "**On peut récupérer ces valeurs dans des variables avec le code suivant :**\n",
    "\n",
    "**Exécutez le**"
   ]
  },
  {
   "cell_type": "code",
   "execution_count": null,
   "metadata": {},
   "outputs": [],
   "source": [
    "#import de la bibliothèque\n",
    "from PIL import Image\n",
    "import random\n",
    "# chargement de l'image\n",
    "img=Image.open(\"joconde.png\")\n",
    "\n",
    "#on récupère les dimensions\n",
    "largeur,hauteur=img.size\n",
    "\n",
    "# choix d'un pixel et récupération de la couleur\n",
    "x=random.randint(0,largeur)\n",
    "y=random.randint(0,hauteur)\n",
    "pixel=img.getpixel((x,y))\n",
    "\n",
    "# mise des valeurs des composantes dans des variables\n",
    "rouge=pixel[0]\n",
    "vert=pixel[1]\n",
    "bleu=pixel[2]\n",
    "alpha=pixel[3]\n",
    "\n",
    "#affichage du résultat\n",
    "print(\"La composante rouge  du pixel de coordonnées \" ,(x,y), \" est:\",rouge)\n",
    "print(\"La composante verte  du pixel de coordonnées \" ,(x,y), \" est:\",vert)\n",
    "print(\"La composante bleue  du pixel de coordonnées \" ,(x,y), \" est:\",bleu)\n",
    "print(\"La composante alpha  du pixel de coordonnées \" ,(x,y), \" est:\",alpha)\n",
    "\n"
   ]
  },
  {
   "cell_type": "markdown",
   "metadata": {},
   "source": [
    "<hr>\n",
    "\n",
    "## Réalisons un filtre rouge\n",
    "\n",
    "<font color=\"blue\">\n",
    "Le code ci-dessous, parcourt tous les pixels de l'image et remplit \n",
    "    \n",
    "une image vierge avec les pixels modifiés de notre image.\n",
    "    \n",
    "La modification effectuée ici est de remplacer toutes les composantes\n",
    "rouges par le maximum soit : 255\n",
    " </font>"
   ]
  },
  {
   "cell_type": "code",
   "execution_count": null,
   "metadata": {},
   "outputs": [],
   "source": [
    "#import de la bibliothèque\n",
    "from PIL import Image\n",
    "\n",
    "# chargement de l'image\n",
    "img=Image.open(\"joconde.png\")\n",
    "#on récupère les dimensions\n",
    "largeur,hauteur=img.size\n",
    "#création d'une image vide de mêmes dimensions\n",
    "img2=Image.new('RGB',(largeur,hauteur))\n",
    "\n",
    "# On parcourt l'image avec une double boucle\n",
    "for x in range(largeur):\n",
    "    for y in range(hauteur):\n",
    "        pixel=img.getpixel((x,y))\n",
    "        #chargement des composantes dans des variables\n",
    "        rouge=pixel[0]\n",
    "        vert=pixel[1]\n",
    "        bleu=pixel[2]\n",
    "        alpha=pixel[3]\n",
    "        # remplissage de la nouvelle image\n",
    "        img2.putpixel((x,y),(255,vert,bleu,alpha))\n",
    "#affichage des deux images\n",
    "display(img,img2) "
   ]
  },
  {
   "cell_type": "markdown",
   "metadata": {},
   "source": [
    "<hr> \n",
    "\n",
    "## À faire:\n",
    "\n",
    "**Réalisez ci-dessous un programme qui réalise un filtre vert**"
   ]
  },
  {
   "cell_type": "code",
   "execution_count": null,
   "metadata": {},
   "outputs": [],
   "source": [
    "# Écrire le programme ici"
   ]
  },
  {
   "cell_type": "markdown",
   "metadata": {},
   "source": [
    "<hr> \n",
    "\n",
    "## À faire:\n",
    "\n",
    "**Réalisez ci-dessous un programme qui réalise un filtre bleu**"
   ]
  },
  {
   "cell_type": "code",
   "execution_count": null,
   "metadata": {},
   "outputs": [],
   "source": [
    "# Écrire le programme ici"
   ]
  },
  {
   "cell_type": "markdown",
   "metadata": {},
   "source": [
    "<hr> \n",
    "\n",
    "## À faire:\n",
    "\n",
    "**Réalisez ci-dessous un programme qui réalise la transformation des pixels ( r , v, b, a)  en : ( 255 - r, 255 - v , 255 - b , a)**\n"
   ]
  },
  {
   "cell_type": "code",
   "execution_count": null,
   "metadata": {},
   "outputs": [],
   "source": [
    "# Écrire le programme ici"
   ]
  },
  {
   "cell_type": "markdown",
   "metadata": {},
   "source": [
    "**Quel nom peut-on donner à cette transformation ?**\n",
    "\n",
    "**Réponse :** "
   ]
  },
  {
   "cell_type": "markdown",
   "metadata": {},
   "source": [
    "<hr> \n",
    "\n",
    "## À faire:\n",
    "\n",
    "**Réalisez ci-dessous un programme qui réalise une transformation que vous imaginerez...**\n"
   ]
  },
  {
   "cell_type": "code",
   "execution_count": null,
   "metadata": {},
   "outputs": [],
   "source": [
    "# Écrire le programme ici"
   ]
  }
 ],
 "metadata": {
  "kernelspec": {
   "display_name": "Python 3",
   "language": "python",
   "name": "python3"
  },
  "language_info": {
   "codemirror_mode": {
    "name": "ipython",
    "version": 3
   },
   "file_extension": ".py",
   "mimetype": "text/x-python",
   "name": "python",
   "nbconvert_exporter": "python",
   "pygments_lexer": "ipython3",
   "version": "3.7.2"
  }
 },
 "nbformat": 4,
 "nbformat_minor": 2
}
