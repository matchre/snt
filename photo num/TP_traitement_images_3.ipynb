{
 "cells": [
  {
   "cell_type": "markdown",
   "metadata": {},
   "source": [
    "# Traitement de l'image TP n° 3"
   ]
  },
  {
   "cell_type": "markdown",
   "metadata": {},
   "source": [
    "<hr>\n",
    "Écrire votre nom ici \n",
    "\n",
    "Nom : \n",
    "<hr>"
   ]
  },
  {
   "cell_type": "markdown",
   "metadata": {},
   "source": [
    "## L'image pour ce TP\n",
    "\n",
    "Téléchargez <a href=\"http://isn-icn-ljm.pagesperso-orange.fr/photo/joconde.png\">cette image</a> ( enregistrer l'image sous...)\n",
    "\n",
    "et placez là dans le dossier de ce notebook\n",
    "<p style=\"text-align:left\";>\n",
    "<img src=\"http://isn-icn-ljm.pagesperso-orange.fr/photo/joconde.png\" width=\"204px\" height=\"160px\">\n",
    "</p>\n",
    "Pour utiliser/manipuler des images en Python, il faut utiliser une bibliothèque.\n",
    "\n",
    "Nous utiliserons la bibliothèque: **pillow**\n",
    "\n",
    "Si elle n'est pas déjà installée : "
   ]
  },
  {
   "cell_type": "code",
   "execution_count": null,
   "metadata": {},
   "outputs": [],
   "source": [
    "#pip install pillow"
   ]
  },
  {
   "cell_type": "markdown",
   "metadata": {},
   "source": [
    "## Transformation d'une image par convolution\n",
    "\n",
    "Modifier une image par convolution consiste à remplacer les composantes de chaque pixel par une combinaison des valeurs des composantes des pixels voisins et de lui-même.\n",
    "\n",
    "### Un pixel et ses 8 voisins :\n",
    "\n",
    "<img src=\"http://isn-icn-ljm.pagesperso-orange.fr/photo/pixel1.png\" width=\"500px\" height=\"200px\">\n",
    "\n",
    "### Un exemple de transformation : ( le filtre passe-haut )\n",
    "\n",
    "<img src=\"http://isn-icn-ljm.pagesperso-orange.fr/photo/pixel2.png\" width=\"500px\" height=\"200px\">\n",
    "\n",
    "<img src=\"http://isn-icn-ljm.pagesperso-orange.fr/photo/pixel3.png\" width=\"500px\" height=\"200px\">\n",
    "\n",
    "\n",
    "**Le code ci-dessous réalise cette transformation**\n",
    "\n",
    "**Exécutez le**"
   ]
  },
  {
   "cell_type": "code",
   "execution_count": null,
   "metadata": {},
   "outputs": [],
   "source": [
    "from PIL import Image\n",
    "\n",
    "# chargement des images\n",
    "img=Image.open(\"joconde.png\")\n",
    "largeur,hauteur=img.size\n",
    "#création d'une image vide\n",
    "img2=Image.new('RGB',(largeur,hauteur))\n",
    "\n",
    "\n",
    "################ traitement ##############\n",
    "# On récupère les valeurs des composantes\n",
    "# du pixel et de ses 8 voisins \n",
    "# On évite les bords de l'image\n",
    "# On réalise le calcul\n",
    "##########################################\n",
    "for y in range(1,hauteur-1,1):\n",
    "    for x in range(1,largeur-1,1):\n",
    "        r1,v1,b1,a1=img.getpixel((x-1,y-1))\n",
    "        r2,v2,b2,a2=img.getpixel((x,y-1))\n",
    "        r3,v3,b3,a3=img.getpixel((x+1,y-1))\n",
    "        r4,v4,b4,a4=img.getpixel((x-1,y))\n",
    "        r5,v5,b5,a5=img.getpixel((x,y))\n",
    "        r6,v6,b6,a6=img.getpixel((x+1,y))\n",
    "        r7,v7,b7,a7=img.getpixel((x-1,y+1))\n",
    "        r8,v8,b8,a8=img.getpixel((x,y+1))\n",
    "        r9,v9,b9,a9=img.getpixel((x+1,y+1))\n",
    "        #modification des pixels\n",
    "        r=-r2-r4+5*r5-r6-r8\n",
    "        v=-v2-v4+5*v5-v6-v8\n",
    "        b=-b2-b4+5*b5-b6-b8\n",
    "        a=a5\n",
    "        img2.putpixel((x,y),(r,v,b,a))\n",
    "        \n",
    "# affichage des images\n",
    "display(img,img2)"
   ]
  },
  {
   "cell_type": "markdown",
   "metadata": {},
   "source": [
    "<hr> \n",
    "\n",
    "## À faire:\n",
    "\n",
    "**Réalisez cette transformation :(Un flou)**\n",
    "\n",
    "<img src=\"http://isn-icn-ljm.pagesperso-orange.fr/photo/pixel4.png\" width=\"600px\" height=\"300px\">\n"
   ]
  },
  {
   "cell_type": "code",
   "execution_count": null,
   "metadata": {},
   "outputs": [],
   "source": [
    "#Écrire le programme ici\n",
    " "
   ]
  },
  {
   "cell_type": "markdown",
   "metadata": {},
   "source": [
    "<hr> \n",
    "\n",
    "## À faire:\n",
    "\n",
    "**Réalisez une transformation avec cette matrice :**\n",
    "\n",
    "<img src=\"http://isn-icn-ljm.pagesperso-orange.fr/photo/pixel5.png\" width=\"150px\" height=\"150px\">\n"
   ]
  },
  {
   "cell_type": "markdown",
   "metadata": {},
   "source": [
    "<hr>\n",
    "\n",
    "## Détecter les contours d'une image\n",
    "\n",
    "On utilisera <a href=\"http://isn-icn-ljm.pagesperso-orange.fr/photo/port.png\">cette image</a>\n",
    "<p style=\"text-align:left\";>\n",
    "<img src=\"http://isn-icn-ljm.pagesperso-orange.fr/photo/port.png\" width=\"300px\" height=\"150px\">\n",
    "</p>\n",
    "\n",
    "**Il s'agit encore d'une transformation par convolution avec la matrice :**\n",
    "\n",
    "<p style=\"text-align:left\";>\n",
    "<img src=\"http://isn-icn-ljm.pagesperso-orange.fr/photo/pixel5.png\" width=\"150px\" height=\"150px\">\n",
    " </p>\n",
    "\n",
    "<hr>\n",
    "\n",
    "## À faire :\n",
    "\n",
    "**Réalisez cette transformation**"
   ]
  },
  {
   "cell_type": "code",
   "execution_count": null,
   "metadata": {},
   "outputs": [],
   "source": [
    "# Écrire le programme ici"
   ]
  },
  {
   "cell_type": "markdown",
   "metadata": {},
   "source": [
    "<hr>\n",
    "\n",
    "## À faire:\n",
    "\n",
    "**Vous rajouterez au programme précédent ce bout de code là ou il faut en créant une seconde image vierge**"
   ]
  },
  {
   "cell_type": "code",
   "execution_count": null,
   "metadata": {},
   "outputs": [],
   "source": [
    "# code à rajouter \n",
    "moyenne=(r+v+b)//3\n",
    "if moyenne>20:\n",
    "    c=0\n",
    "else:\n",
    "    c=255\n",
    "img3.putpixel((x,y),(c,c,c,a))"
   ]
  },
  {
   "cell_type": "code",
   "execution_count": null,
   "metadata": {},
   "outputs": [],
   "source": [
    "# Écrire le programme ici"
   ]
  },
  {
   "cell_type": "markdown",
   "metadata": {},
   "source": [
    "<hr>\n",
    "\n",
    "## À faire:\n",
    "\n",
    "**Vous réaliserez une transformation par convolution que vous imaginerez...**"
   ]
  },
  {
   "cell_type": "code",
   "execution_count": null,
   "metadata": {},
   "outputs": [],
   "source": [
    "# Écrire le programme ici"
   ]
  }
 ],
 "metadata": {
  "kernelspec": {
   "display_name": "Python 3",
   "language": "python",
   "name": "python3"
  },
  "language_info": {
   "codemirror_mode": {
    "name": "ipython",
    "version": 3
   },
   "file_extension": ".py",
   "mimetype": "text/x-python",
   "name": "python",
   "nbconvert_exporter": "python",
   "pygments_lexer": "ipython3",
   "version": "3.7.2"
  }
 },
 "nbformat": 4,
 "nbformat_minor": 2
}
