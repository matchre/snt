{
 "cells": [
  {
   "cell_type": "markdown",
   "metadata": {},
   "source": [
    "# Traitement de l'image TP n° 4"
   ]
  },
  {
   "cell_type": "markdown",
   "metadata": {},
   "source": [
    "<hr>\n",
    "Écrire votre nom ici \n",
    "\n",
    "Nom : \n",
    "<hr>"
   ]
  },
  {
   "cell_type": "markdown",
   "metadata": {},
   "source": [
    "## L'image pour ce TP\n",
    "\n",
    "Téléchargez <a href=\"http://isn-icn-ljm.pagesperso-orange.fr/photo/joconde.png\">cette image</a> ( enregistrer l'image sous...)\n",
    "\n",
    "et placez là dans le dossier de ce notebook\n",
    "<p style=\"text-align:left\";>\n",
    "<img src=\"http://isn-icn-ljm.pagesperso-orange.fr/photo/joconde.png\" width=\"204px\" height=\"160px\">\n",
    "</p>\n",
    "Pour utiliser/manipuler des images en Python, il faut utiliser une bibliothèque.\n",
    "\n",
    "Nous utiliserons la bibliothèque: **pillow**\n",
    "\n",
    "Si elle n'est pas déjà installée : "
   ]
  },
  {
   "cell_type": "code",
   "execution_count": null,
   "metadata": {},
   "outputs": [],
   "source": [
    "#pip install pillow"
   ]
  },
  {
   "cell_type": "markdown",
   "metadata": {},
   "source": [
    "## Transformations géométriques\n",
    "\n",
    "**Il s'agit de déplacer les pixels de l'image afin d'obtenir une image modifiée par symétrie**\n",
    "\n",
    "Le code suivant réalise une symétrie qui renverse l'image de la Joconde\n",
    "\n",
    "**Le principe est :**\n",
    "\n",
    "* On travaille sur la moitié de l'image en hauteur\n",
    "* Pour chacun de ces pixels\n",
    "* On l'inverse avec son symétrique par rapport à l'axe horizontal de la moitié de l'image : ( x , y )  <--> ( x , 319-y )\n"
   ]
  },
  {
   "cell_type": "code",
   "execution_count": null,
   "metadata": {},
   "outputs": [],
   "source": [
    "from PIL import Image\n",
    "\n",
    "\n",
    "# chargement des images\n",
    "img=Image.open(\"joconde.png\")\n",
    "largeur,hauteur=img.size\n",
    "#création d'une image vide\n",
    "img2=Image.new('RGB',(largeur,hauteur))\n",
    "\n",
    "\n",
    "#traitement\n",
    "for y in range(0,hauteur//2,1):\n",
    "    for x in range(0,largeur,1):\n",
    "        pixel1=img.getpixel((x,y))\n",
    "        pixel2=img.getpixel((x,319-y))\n",
    "        img2.putpixel((x,y),pixel2)\n",
    "        img2.putpixel((x,319-y),pixel1)\n",
    "display(img2)"
   ]
  },
  {
   "cell_type": "markdown",
   "metadata": {},
   "source": [
    "<hr> \n",
    "\n",
    "## À faire:\n",
    "\n",
    "**Réalisez cette symétrie :**\n",
    "\n",
    "<img src=\"http://isn-icn-ljm.pagesperso-orange.fr/photo/joconde_sym_2.png\" width=\"150px\" height=\"150px\">\n"
   ]
  },
  {
   "cell_type": "code",
   "execution_count": null,
   "metadata": {},
   "outputs": [],
   "source": [
    "# Écrire le programme ici\n"
   ]
  },
  {
   "cell_type": "markdown",
   "metadata": {},
   "source": [
    "<hr> \n",
    "\n",
    "## À faire:\n",
    "\n",
    "**Imaginez une transformation et réalisez le programme**\n"
   ]
  },
  {
   "cell_type": "code",
   "execution_count": null,
   "metadata": {},
   "outputs": [],
   "source": [
    "# Écrire le programme ici"
   ]
  },
  {
   "cell_type": "markdown",
   "metadata": {},
   "source": [
    "<hr>\n",
    "\n",
    "# Pour aller plus loin : L'effet photomaton \n",
    "\n",
    "On souhaite écrire un programme qui effectue la transformation suivante:\n",
    "\n",
    "<img src=\"http://isn-icn-ljm.pagesperso-orange.fr/photo/joconde_4.png\" width=\"408px\" height=\"320px\">\n",
    "\n",
    "\n",
    "**Le principe du photomaton :**\n",
    "\n",
    "**Il faut redistribuer les pixels comme le montre le schéma suivant:**\n",
    "\n",
    "<img src=\"http://isn-icn-ljm.pagesperso-orange.fr/photo/maton.png\" width=\"500px\" height=\"320px\">\n",
    "\n",
    "* Le quadrant supérieur gauche contiendra les pixels de coordonnées ( pair , pair )\n",
    "* Le quadrant supérieur droit contiendra les pixels de coordonnées ( pair , impair )\n",
    "* Le quadrant inférieur gauche contiendra les pixels de coordonnées ( impair , pair )\n",
    "* Le quadrant inférieur droit contiendra les pixels de coordonnées ( impair , impair )\n",
    "\n",
    "**Voici le code qui réalise cette transformation:**"
   ]
  },
  {
   "cell_type": "code",
   "execution_count": null,
   "metadata": {},
   "outputs": [],
   "source": [
    "from PIL import Image\n",
    "# chargement de l'image\n",
    "img=Image.open(\"joconde.png\")\n",
    "largeur,hauteur=img.size\n",
    "print(largeur,hauteur)\n",
    "\n",
    "#Calcul des nouvelles coordonnées\n",
    "def coord(x,y):\n",
    "        if x%2==0 and y%2==0:#pair,pair\n",
    "            return (x//2,y//2)\n",
    "        if x%2==0 and y%2!=0:#pair,impair\n",
    "            return (x//2+largeur//2,y//2+1)\n",
    "        if x%2!=0 and y%2==0:#impair,pair\n",
    "            return (x//2+1,y//2+hauteur//2)\n",
    "        if x%2!=0 and y%2!=0:#impair,impair\n",
    "            return (x//2+largeur//2,y//2+hauteur//2)\n",
    "#traitement\n",
    "def photomaton(image):\n",
    "    #création d'une image vide\n",
    "    im=Image.new('RGB',(largeur,hauteur))\n",
    "    for y in range(0,hauteur,1):\n",
    "        for x in range(0,largeur,1):\n",
    "            var=coord(x,y)#appel de la fonction coord()\n",
    "            pixel=image.getpixel((x,y))\n",
    "            im.putpixel(var,pixel)\n",
    "    return im\n",
    "\n",
    "var = photomaton(img) #appel de la fonction photomaton()\n",
    "display(var)"
   ]
  },
  {
   "cell_type": "markdown",
   "metadata": {},
   "source": [
    "<hr> \n",
    "\n",
    "## À faire:\n",
    "\n",
    "**Modifiez ce programme pour qu'il y ait 16 images, 32 images...**\n"
   ]
  },
  {
   "cell_type": "code",
   "execution_count": null,
   "metadata": {},
   "outputs": [],
   "source": [
    "# Écrire le programme modifié ici"
   ]
  }
 ],
 "metadata": {
  "kernelspec": {
   "display_name": "Python 3",
   "language": "python",
   "name": "python3"
  },
  "language_info": {
   "codemirror_mode": {
    "name": "ipython",
    "version": 3
   },
   "file_extension": ".py",
   "mimetype": "text/x-python",
   "name": "python",
   "nbconvert_exporter": "python",
   "pygments_lexer": "ipython3",
   "version": "3.7.2"
  }
 },
 "nbformat": 4,
 "nbformat_minor": 2
}
