{
 "cells": [
  {
   "cell_type": "markdown",
   "metadata": {},
   "source": [
    "# Traitement de l'image TP n° 2"
   ]
  },
  {
   "cell_type": "markdown",
   "metadata": {},
   "source": [
    "<hr>\n",
    "Écrire votre nom ici \n",
    "\n",
    "Nom : \n",
    "<hr>"
   ]
  },
  {
   "cell_type": "markdown",
   "metadata": {},
   "source": [
    "## L'image pour ce TP\n",
    "\n",
    "Téléchargez <a href=\"http://isn-icn-ljm.pagesperso-orange.fr/photo/joconde.png\">cette image</a> ( enregistrer l'image sous...)\n",
    "\n",
    "et placez là dans le dossier de ce notebook\n",
    "<p style=\"text-align:left\";>\n",
    "<img src=\"http://isn-icn-ljm.pagesperso-orange.fr/photo/joconde.png\" width=\"204px\" height=\"160px\">\n",
    "</p>\n",
    "Pour utiliser/manipuler des images en Python, il faut utiliser une bibliothèque.\n",
    "\n",
    "Nous utiliserons la bibliothèque: **pillow**\n",
    "\n",
    "Si elle n'est pas déjà installée : "
   ]
  },
  {
   "cell_type": "code",
   "execution_count": null,
   "metadata": {},
   "outputs": [],
   "source": [
    "#pip install pillow"
   ]
  },
  {
   "cell_type": "markdown",
   "metadata": {},
   "source": [
    "##  Mettre une image en niveau de gris\n",
    "\n",
    "Pour mettre une image en niveau de gris, il faut remplacer les composantes rouge, verte et bleue par leur moyenne\n",
    "\n",
    "Donc pour chaque pixel on réalise la transformation suivante:\n",
    "\n",
    "\n",
    "moyenne = ( r+v+b )//3 ( la moyenne doit être un entier )\n",
    "\n",
    "( r , v , b , a)  -----> (moyenne , moyenne , moyenne , a)\n",
    "\n",
    "**Complétez le code ci-dessous pour qu'il réalise une mise en niveau de gris** "
   ]
  },
  {
   "cell_type": "code",
   "execution_count": null,
   "metadata": {},
   "outputs": [],
   "source": [
    "#import de la bibliothèque\n",
    "from PIL import Image\n",
    "\n",
    "# chargement de l'image\n",
    "img=Image.open(\"joconde.png\")\n",
    "#on récupère les dimensions\n",
    "largeur,hauteur=img.size\n",
    "#création d'une image vide de mêmes dimensions\n",
    "img2=Image.new('RGB',(largeur,hauteur))\n",
    "\n",
    "# On parcourt l'image avec une double boucle\n",
    "for x in range(largeur):\n",
    "    for y in range(hauteur):\n",
    "        pixel=img.getpixel((x,y))\n",
    "        #chargement des composantes dans des variables\n",
    "        rouge=pixel[0]\n",
    "        vert=pixel[1]\n",
    "        bleu=pixel[2]\n",
    "        alpha=pixel[3]\n",
    "        # calcul de la moyenne à compléter\n",
    "        \n",
    "        # remplissage de la nouvelle image à modifier\n",
    "        img2.putpixel((x,y),(???,???,???,???))\n",
    "#affichage des deux images\n",
    "display(img,img2)"
   ]
  },
  {
   "cell_type": "markdown",
   "metadata": {},
   "source": [
    "<hr>\n",
    "\n",
    "## Mettre une image en noir et blanc\n",
    "\n",
    "**Pour mettre une image en noir et blanc, il faut au préalable l'avoir mise en niveau de gris,**\n",
    "\n",
    "**puis si la moyenne calculée est supérieure à 127 on la met au maximum (255) sinon on la met au minimum (0)**\n",
    "\n",
    "Voici un bout de code qu'il faudra utiliser :"
   ]
  },
  {
   "cell_type": "code",
   "execution_count": null,
   "metadata": {},
   "outputs": [],
   "source": [
    "if moyenne > 127:\n",
    "    moyenne=255\n",
    "else:\n",
    "    moyenne=0"
   ]
  },
  {
   "cell_type": "markdown",
   "metadata": {},
   "source": [
    "<hr> \n",
    "\n",
    "## À faire:\n",
    "\n",
    "**Réalisez ci-dessous un programme qui réalise la mise en noir et blanc de l'image**\n"
   ]
  },
  {
   "cell_type": "code",
   "execution_count": null,
   "metadata": {},
   "outputs": [],
   "source": [
    "#Écrire le programme ici\n",
    " "
   ]
  },
  {
   "cell_type": "markdown",
   "metadata": {},
   "source": [
    "<hr> \n",
    "\n",
    "## À faire:\n",
    "\n",
    "Dans le programme précédent 127 est un 'seuil' \n",
    "\n",
    "**Reprendre le programme précédent en modifiant ce seuil**\n"
   ]
  },
  {
   "cell_type": "code",
   "execution_count": null,
   "metadata": {},
   "outputs": [],
   "source": [
    "#Écrire le programme ici\n",
    " "
   ]
  },
  {
   "cell_type": "markdown",
   "metadata": {},
   "source": [
    "# Filtrage par seuil \n",
    "\n",
    "Voici le programme du filtre rouge du TP n°1"
   ]
  },
  {
   "cell_type": "code",
   "execution_count": null,
   "metadata": {},
   "outputs": [],
   "source": [
    "#import de la bibliothèque\n",
    "from PIL import Image\n",
    "\n",
    "# chargement de l'image\n",
    "img=Image.open(\"joconde.png\")\n",
    "#on récupère les dimensions\n",
    "largeur,hauteur=img.size\n",
    "#création d'une image vide de mêmes dimensions\n",
    "img2=Image.new('RGB',(largeur,hauteur))\n",
    "\n",
    "# On parcourt l'image avec une double boucle\n",
    "for x in range(largeur):\n",
    "    for y in range(hauteur):\n",
    "        pixel=img.getpixel((x,y))\n",
    "        #chargement des composantes dans des variables\n",
    "        rouge=pixel[0]\n",
    "        vert=pixel[1]\n",
    "        bleu=pixel[2]\n",
    "        alpha=pixel[3]\n",
    "        # remplissage de la nouvelle image\n",
    "        img2.putpixel((x,y),(255,vert,bleu,alpha))\n",
    "#affichage des deux images\n",
    "display(img,img2)"
   ]
  },
  {
   "cell_type": "markdown",
   "metadata": {},
   "source": [
    "<hr> \n",
    "\n",
    "## À faire:\n",
    "\n",
    "**Modifiez le programme pour que la composante rouge de la nouvelle image soit de 255 si la composante rouge de l'image est supérieure à 127 et 0 sinon**\n"
   ]
  },
  {
   "cell_type": "code",
   "execution_count": null,
   "metadata": {},
   "outputs": [],
   "source": [
    "#Écrire le programme ici\n",
    " "
   ]
  },
  {
   "cell_type": "markdown",
   "metadata": {},
   "source": [
    "<hr> \n",
    "\n",
    "## À faire:\n",
    "\n",
    "**Imaginez un programme qui réalise un filtrage par seuil différent sur les 3 composantes...**\n"
   ]
  },
  {
   "cell_type": "code",
   "execution_count": null,
   "metadata": {},
   "outputs": [],
   "source": [
    "#Écrire le programme ici\n",
    " "
   ]
  }
 ],
 "metadata": {
  "kernelspec": {
   "display_name": "Python 3",
   "language": "python",
   "name": "python3"
  },
  "language_info": {
   "codemirror_mode": {
    "name": "ipython",
    "version": 3
   },
   "file_extension": ".py",
   "mimetype": "text/x-python",
   "name": "python",
   "nbconvert_exporter": "python",
   "pygments_lexer": "ipython3",
   "version": "3.7.2"
  }
 },
 "nbformat": 4,
 "nbformat_minor": 2
}
