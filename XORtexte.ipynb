{
 "cells": [
  {
   "cell_type": "markdown",
   "metadata": {
    "colab_type": "text",
    "id": "-5J6QzrNdB-m"
   },
   "source": [
    "## I.CODAGE/DECODAGE D'UN SEUL MOT\n",
    "On veut coder le texte avec la clé "
   ]
  },
  {
   "cell_type": "code",
   "execution_count": 0,
   "metadata": {
    "colab": {},
    "colab_type": "code",
    "collapsed": true,
    "id": "1nCbkqgcW6-u"
   },
   "outputs": [],
   "source": [
    "import numpy as np\n",
    "texte=\"NEWYORK\"\n",
    "cle=\"CARACAS\"\n",
    "\n",
    "\n"
   ]
  },
  {
   "cell_type": "markdown",
   "metadata": {
    "colab_type": "text",
    "id": "xq3c7U9ObAXz"
   },
   "source": []
  },
  {
   "cell_type": "code",
   "execution_count": 19,
   "metadata": {
    "colab": {
     "base_uri": "https://localhost:8080/",
     "height": 35
    },
    "colab_type": "code",
    "executionInfo": {
     "elapsed": 1208,
     "status": "ok",
     "timestamp": 1548343501935,
     "user": {
      "displayName": "mathieu chretien",
      "photoUrl": "",
      "userId": "14410747210325459459"
     },
     "user_tz": -60
    },
    "id": "-ABiekolbBUG",
    "outputId": "15f6215b-d5b5-4946-d968-45f7031acb48"
   },
   "outputs": [
    {
     "data": {
      "text/plain": [
       "[78, 69, 87, 89, 79, 82, 75]"
      ]
     },
     "execution_count": 19,
     "metadata": {
      "tags": []
     },
     "output_type": "execute_result"
    }
   ],
   "source": [
    "t=[]\n",
    "for l in texte:\n",
    "    t.append(ord(l))\n",
    "t"
   ]
  },
  {
   "cell_type": "markdown",
   "metadata": {
    "colab_type": "text",
    "id": "Us53jwS4bBqL"
   },
   "source": [
    "à quoi correspondent ces nombres?"
   ]
  },
  {
   "cell_type": "code",
   "execution_count": 20,
   "metadata": {
    "colab": {
     "base_uri": "https://localhost:8080/",
     "height": 35
    },
    "colab_type": "code",
    "executionInfo": {
     "elapsed": 1189,
     "status": "ok",
     "timestamp": 1548343501940,
     "user": {
      "displayName": "mathieu chretien",
      "photoUrl": "",
      "userId": "14410747210325459459"
     },
     "user_tz": -60
    },
    "id": "RpCupLSobB2E",
    "outputId": "fbe7219d-9b50-4f37-d66b-48a1f5941205"
   },
   "outputs": [
    {
     "data": {
      "text/plain": [
       "[67, 65, 82, 65, 67, 65, 83]"
      ]
     },
     "execution_count": 20,
     "metadata": {
      "tags": []
     },
     "output_type": "execute_result"
    }
   ],
   "source": [
    "c=[]\n",
    "for l in cle:\n",
    "    c.append(ord(l))\n",
    "c"
   ]
  },
  {
   "cell_type": "markdown",
   "metadata": {
    "colab_type": "text",
    "id": "G1mRwAAbbCI0"
   },
   "source": [
    "et ceux ci?\n",
    "\n"
   ]
  },
  {
   "cell_type": "code",
   "execution_count": 21,
   "metadata": {
    "colab": {
     "base_uri": "https://localhost:8080/",
     "height": 52
    },
    "colab_type": "code",
    "executionInfo": {
     "elapsed": 1179,
     "status": "ok",
     "timestamp": 1548343501944,
     "user": {
      "displayName": "mathieu chretien",
      "photoUrl": "",
      "userId": "14410747210325459459"
     },
     "user_tz": -60
    },
    "id": "t_FLJqt_bk0B",
    "outputId": "8865e5b0-47c2-4116-97ef-8dece19d89e1"
   },
   "outputs": [
    {
     "name": "stdout",
     "output_type": "stream",
     "text": [
      "[13, 4, 5, 24, 12, 19, 24]\n"
     ]
    },
    {
     "data": {
      "text/plain": [
       "'\\r\\x04\\x05\\x18\\x0c\\x13\\x18'"
      ]
     },
     "execution_count": 21,
     "metadata": {
      "tags": []
     },
     "output_type": "execute_result"
    }
   ],
   "source": [
    "m=[]\n",
    "for i in range(len(c)):\n",
    "    m.append(np.bitwise_xor(t[i], c[i]))\n",
    "print(m)\n",
    "messagecode=''\n",
    "for nbre in m:\n",
    "  messagecode=messagecode+chr(nbre)\n",
    "messagecode \n"
   ]
  },
  {
   "cell_type": "markdown",
   "metadata": {
    "colab_type": "text",
    "id": "u2wa0X1xc_ON"
   },
   "source": [
    "que représentent les variables m et messagecode ?"
   ]
  },
  {
   "cell_type": "code",
   "execution_count": 22,
   "metadata": {
    "colab": {
     "base_uri": "https://localhost:8080/",
     "height": 35
    },
    "colab_type": "code",
    "executionInfo": {
     "elapsed": 1180,
     "status": "ok",
     "timestamp": 1548343501957,
     "user": {
      "displayName": "mathieu chretien",
      "photoUrl": "",
      "userId": "14410747210325459459"
     },
     "user_tz": -60
    },
    "id": "De_DZu7SbvkM",
    "outputId": "da8da5cb-e846-4e9b-eade-607d692f9509"
   },
   "outputs": [
    {
     "name": "stdout",
     "output_type": "stream",
     "text": [
      "message decode NEWYORK\n"
     ]
    }
   ],
   "source": [
    "d=[]\n",
    "D=\"\"\n",
    "for i in range(len(c)):\n",
    "    d.append(np.bitwise_xor(m[i], c[i]))\n",
    "    D=D+chr(d[i])\n",
    "\n",
    "print(\"message decode\",D)"
   ]
  },
  {
   "cell_type": "markdown",
   "metadata": {
    "colab_type": "text",
    "id": "2Y7ocIL_d6JP"
   },
   "source": [
    "# II.Codage/Decodage d'un texte\n",
    "On va créer une fonction qui va faire en plus condensé ce qui précède"
   ]
  },
  {
   "cell_type": "code",
   "execution_count": 32,
   "metadata": {
    "colab": {
     "base_uri": "https://localhost:8080/",
     "height": 35
    },
    "colab_type": "code",
    "executionInfo": {
     "elapsed": 824,
     "status": "ok",
     "timestamp": 1548344554511,
     "user": {
      "displayName": "mathieu chretien",
      "photoUrl": "",
      "userId": "14410747210325459459"
     },
     "user_tz": -60
    },
    "id": "y78-lyEYeNjb",
    "outputId": "47995a0a-cece-4798-90f5-5b08542df8d4"
   },
   "outputs": [
    {
     "data": {
      "text/plain": [
       "'\\r\\x04\\x05\\x18\\x0c\\x13\\x18'"
      ]
     },
     "execution_count": 32,
     "metadata": {
      "tags": []
     },
     "output_type": "execute_result"
    }
   ],
   "source": [
    "def codage(texte,cle):\n",
    "  t=[]\n",
    "  for l in texte:\n",
    "    t.append(ord(l))\n",
    "  c=[]\n",
    "  for l in cle:\n",
    "    c.append(ord(l))\n",
    "  m=[]\n",
    "  for i in range(len(c)):\n",
    "    m.append(np.bitwise_xor(t[i], c[i]))\n",
    "  messagecode=''\n",
    "  for nbre in m:\n",
    "    messagecode=messagecode+chr(nbre) \n",
    "  return(messagecode)\n",
    "\n",
    "\n",
    "codage('NEWYORK','CARACAS')\n"
   ]
  },
  {
   "cell_type": "code",
   "execution_count": 31,
   "metadata": {
    "colab": {
     "base_uri": "https://localhost:8080/",
     "height": 52
    },
    "colab_type": "code",
    "executionInfo": {
     "elapsed": 731,
     "status": "ok",
     "timestamp": 1548344540211,
     "user": {
      "displayName": "mathieu chretien",
      "photoUrl": "",
      "userId": "14410747210325459459"
     },
     "user_tz": -60
    },
    "id": "Lz_eAuNEfPI2",
    "outputId": "98693d02-e50e-4e6c-cc7a-f9fc0d839c69"
   },
   "outputs": [
    {
     "name": "stdout",
     "output_type": "stream",
     "text": [
      "[13, 4, 5, 24, 12, 19, 24]\n"
     ]
    },
    {
     "data": {
      "text/plain": [
       "'NEWYORK'"
      ]
     },
     "execution_count": 31,
     "metadata": {
      "tags": []
     },
     "output_type": "execute_result"
    }
   ],
   "source": [
    "def DEcodage(messagecode,cle):\n",
    "  t=[]\n",
    "  for l in messagecode:\n",
    "    t.append(ord(l))\n",
    "  \n",
    "  c=[]\n",
    "  for l in cle:\n",
    "    c.append(ord(l))\n",
    "  m=[]\n",
    "  for i in range(len(c)):\n",
    "    m.append(np.bitwise_xor(t[i], c[i]))\n",
    "  messagecode=''\n",
    "  for nbre in m:\n",
    "    messagecode=messagecode+chr(nbre) \n",
    "  return(messagecode)\n",
    "\n",
    "\n",
    "DEcodage(codage('NEWYORK','CARACAS'),'CARACAS')\n"
   ]
  },
  {
   "cell_type": "markdown",
   "metadata": {
    "colab_type": "text",
    "id": "T-OIiXPFhynw"
   },
   "source": [
    "ça marche, modifions un peu"
   ]
  },
  {
   "cell_type": "code",
   "execution_count": 33,
   "metadata": {
    "colab": {
     "base_uri": "https://localhost:8080/",
     "height": 35
    },
    "colab_type": "code",
    "executionInfo": {
     "elapsed": 792,
     "status": "ok",
     "timestamp": 1548344635116,
     "user": {
      "displayName": "mathieu chretien",
      "photoUrl": "",
      "userId": "14410747210325459459"
     },
     "user_tz": -60
    },
    "id": "2OHnwyshh6l7",
    "outputId": "07180111-09ed-45b5-f8eb-d96597285be3"
   },
   "outputs": [
    {
     "data": {
      "text/plain": [
       "'NEWYOR'"
      ]
     },
     "execution_count": 33,
     "metadata": {
      "tags": []
     },
     "output_type": "execute_result"
    }
   ],
   "source": [
    "codage('NEWYORK','CARACA')\n",
    "DEcodage(codage('NEWYORK','CARACA'),'CARACA')"
   ]
  },
  {
   "cell_type": "markdown",
   "metadata": {
    "colab_type": "text",
    "id": "Cma0lr5ZiF0P"
   },
   "source": [
    "quel est le problème?"
   ]
  },
  {
   "cell_type": "code",
   "execution_count": 34,
   "metadata": {
    "colab": {
     "base_uri": "https://localhost:8080/",
     "height": 35
    },
    "colab_type": "code",
    "executionInfo": {
     "elapsed": 634,
     "status": "ok",
     "timestamp": 1548344791722,
     "user": {
      "displayName": "mathieu chretien",
      "photoUrl": "",
      "userId": "14410747210325459459"
     },
     "user_tz": -60
    },
    "id": "fJEJUCG9iIHc",
    "outputId": "d798ec1f-748e-4b6d-960f-325ad3489bd3"
   },
   "outputs": [
    {
     "data": {
      "text/plain": [
       "'NEWYORK IS MAGIC'"
      ]
     },
     "execution_count": 34,
     "metadata": {
      "tags": []
     },
     "output_type": "execute_result"
    }
   ],
   "source": [
    "cle=2*'CARACASS'\n",
    "texte='NEWYORK IS MAGIC'\n",
    "codage(texte,cle)\n",
    "DEcodage(codage(texte,cle),cle)"
   ]
  },
  {
   "cell_type": "markdown",
   "metadata": {
    "colab_type": "text",
    "id": "HMi24ehsirdH"
   },
   "source": [
    "qu'a-t-on fait?"
   ]
  },
  {
   "cell_type": "markdown",
   "metadata": {
    "colab_type": "text",
    "id": "xl1igT_qix_6"
   },
   "source": [
    "On veut coder le texte suivant"
   ]
  },
  {
   "cell_type": "code",
   "execution_count": 35,
   "metadata": {
    "colab": {
     "base_uri": "https://localhost:8080/",
     "height": 35
    },
    "colab_type": "code",
    "executionInfo": {
     "elapsed": 1081,
     "status": "ok",
     "timestamp": 1548345122142,
     "user": {
      "displayName": "mathieu chretien",
      "photoUrl": "",
      "userId": "14410747210325459459"
     },
     "user_tz": -60
    },
    "id": "VlCQk8mCi8YD",
    "outputId": "ba0df2ef-8aa7-448f-a57e-071555e1c6ba"
   },
   "outputs": [
    {
     "data": {
      "text/plain": [
       "790"
      ]
     },
     "execution_count": 35,
     "metadata": {
      "tags": []
     },
     "output_type": "execute_result"
    }
   ],
   "source": [
    "texte='Une demande de la physique amene parfois la naissance de theories caillouteuses  le praticien est presse le mathematicien fignole ensuite son travail et la route raboteuse devient une belle autostrade sur laquelle le praticien roule sans difficultes  Le physicien taille son chemin a la serpe  a la pelle  a la pioche  Les mathematiciens trouvent le sentier interessant  lamenagent  Si le physicien a besoin que son chemin soit plus large ou aille plus loin  le mathematicien arrive avec son bulldozer  Puis il perfectionne  et ainsi de suite  Parfois même il trace une route qui traverse une region ou le physicien ne sent pas le besoin daller ; puis vient un temps ou le physicien eprouve le besoin de voir un peu de ce côte-la et il se rejouit de trouver la route prête   Raymond Queneau'\n",
    "len(texte)"
   ]
  },
  {
   "cell_type": "markdown",
   "metadata": {
    "colab_type": "text",
    "id": "2HyBay18kEV5"
   },
   "source": [
    "faites les modifications nécessaires sur la cle"
   ]
  },
  {
   "cell_type": "code",
   "execution_count": 36,
   "metadata": {
    "colab": {
     "base_uri": "https://localhost:8080/",
     "height": 35
    },
    "colab_type": "code",
    "executionInfo": {
     "elapsed": 835,
     "status": "ok",
     "timestamp": 1548345242027,
     "user": {
      "displayName": "mathieu chretien",
      "photoUrl": "",
      "userId": "14410747210325459459"
     },
     "user_tz": -60
    },
    "id": "RhTtBhiIkPYu",
    "outputId": "3f9cde74-ce2d-479d-c6a6-7b5131ef13eb"
   },
   "outputs": [
    {
     "data": {
      "text/plain": [
       "'Une demande de l'"
      ]
     },
     "execution_count": 36,
     "metadata": {
      "tags": []
     },
     "output_type": "execute_result"
    }
   ],
   "source": [
    "cle=2*'CARACASS' #a modifier\n",
    "codage(texte,cle)\n",
    "DEcodage(codage(texte,cle),cle)"
   ]
  },
  {
   "cell_type": "markdown",
   "metadata": {
    "colab_type": "text",
    "id": "5NhfemJtkOB1"
   },
   "source": []
  },
  {
   "cell_type": "markdown",
   "metadata": {
    "colab_type": "text",
    "id": "B6bCiVRhkmwp"
   },
   "source": [
    "# III.IMAGE XOR"
   ]
  },
  {
   "cell_type": "code",
   "execution_count": 1,
   "metadata": {
    "colab": {
     "base_uri": "https://localhost:8080/",
     "height": 993
    },
    "colab_type": "code",
    "executionInfo": {
     "elapsed": 1012,
     "status": "error",
     "timestamp": 1548362932664,
     "user": {
      "displayName": "mathieu chretien",
      "photoUrl": "",
      "userId": "14410747210325459459"
     },
     "user_tz": -60
    },
    "id": "GusB2T-0ksAo",
    "outputId": "d3c3c38e-2714-4014-9f92-21988c2dde68"
   },
   "outputs": [
    {
     "data": {
      "image/png": "[encoded data removed]",
      "text/plain": [
       "<matplotlib.figure.Figure at 0x6ba8d30>"
      ]
     },
     "metadata": {},
     "output_type": "display_data"
    }
   ],
   "source": [
    "import cv2\n",
    "import numpy as np\n",
    "import matplotlib.pyplot as plt\n",
    "%matplotlib inline\n",
    "import cv2 as cv\n",
    "from matplotlib import pyplot as plt\n",
    "\n",
    "img1 = cv.imread('crypted.png')\n",
    "img2 = cv.imread('key.png')\n",
    "img1 = cv.bitwise_xor(img1,img2)\n",
    "\n",
    "cv.imwrite(\"res.jpg\",img1)\n",
    "plt.imshow(img1)\n",
    "plt.show()\n",
    "\n"
   ]
  },
  {
   "cell_type": "code",
   "execution_count": 0,
   "metadata": {
    "colab": {},
    "colab_type": "code",
    "collapsed": true,
    "id": "iitkMQQQloOV"
   },
   "outputs": [],
   "source": []
  }
 ],
 "metadata": {
  "colab": {
   "collapsed_sections": [],
   "name": "XORtexte.ipynb",
   "provenance": [],
   "version": "0.3.2"
  },
  "kernelspec": {
   "display_name": "Python 3",
   "language": "python",
   "name": "python3"
  },
  "language_info": {
   "codemirror_mode": {
    "name": "ipython",
    "version": 3
   },
   "file_extension": ".py",
   "mimetype": "text/x-python",
   "name": "python",
   "nbconvert_exporter": "python",
   "pygments_lexer": "ipython3",
   "version": "3.4.5"
  }
 },
 "nbformat": 4,
 "nbformat_minor": 1
}
