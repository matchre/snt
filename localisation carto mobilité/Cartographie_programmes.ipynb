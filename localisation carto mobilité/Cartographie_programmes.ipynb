{
  "nbformat": 4,
  "nbformat_minor": 0,
  "metadata": {
    "colab": {
      "name": "Cartographie_programmes.ipynb",
      "version": "0.3.2",
      "provenance": [],
      "collapsed_sections": [
        "MN_J1mzG6VmU",
        "vAoI1LCekeQM",
        "mcBwwu86osYE",
        "tbS79S9Hq1YA",
        "_1BqsC6or76_",
        "64sbpR9N2d2b",
        "XgtrHEth6cdC"
      ],
      "include_colab_link": true
    },
    "kernelspec": {
      "name": "python3",
      "display_name": "Python 3"
    }
  },
  "cells": [
    {
      "cell_type": "markdown",
      "metadata": {
        "id": "view-in-github",
        "colab_type": "text"
      },
      "source": [
        "<a href=\"https://colab.research.google.com/github/vanzuijlen/SNT/blob/master/Cartographie_programmes.ipynb\" target=\"_parent\"><img src=\"https://colab.research.google.com/assets/colab-badge.svg\" alt=\"Open In Colab\"/></a>"
      ]
    },
    {
      "cell_type": "markdown",
      "metadata": {
        "id": "DhfBNO9Eyw-p",
        "colab_type": "text"
      },
      "source": [
        "# Programmes Python pour le thème : Localisation - Cartographie et mobilité\n"
      ]
    },
    {
      "cell_type": "markdown",
      "metadata": {
        "id": "1TPL-FQ0HyOy",
        "colab_type": "text"
      },
      "source": [
        "Ces programmes sont à adapter aux IDE que vous utilsez.\n",
        "\n",
        "\n",
        "\n"
      ]
    },
    {
      "cell_type": "markdown",
      "metadata": {
        "id": "TnkjHMRtzFdg",
        "colab_type": "text"
      },
      "source": [
        "# Les bibliothèques\n",
        "\n",
        "On utilisera les bibliothèques suivantes:\n",
        "\n",
        "\n",
        "*   folium ( pour la création de cartes  )\n",
        "*   webbrowser ( pour l'accès au navigateur) non utilisée dans ce notebook ( non fonctionnel)\n",
        "*   geopy ( pour associer noms de villes et localisations)\n",
        "*   pyroutlib3 ( pour des visualisations d'itinéraires)\n",
        "\n",
        "\n"
      ]
    },
    {
      "cell_type": "markdown",
      "metadata": {
        "id": "MN_J1mzG6VmU",
        "colab_type": "text"
      },
      "source": [
        "# Afficher un lieu sur  une carte à partir de ses coordonnées (latitude,longitude)\n",
        "La bibliothèque folium\n",
        "\n",
        "Centrée sur un point précis du globe"
      ]
    },
    {
      "cell_type": "markdown",
      "metadata": {
        "id": "KqMHJkXrnkj-",
        "colab_type": "text"
      },
      "source": [
        "**Afficher ne carte du monde :**\n"
      ]
    },
    {
      "cell_type": "code",
      "metadata": {
        "id": "31nBJ__lntIB",
        "colab_type": "code",
        "colab": {
          "base_uri": "https://localhost:8080/",
          "height": 1069
        },
        "outputId": "21211837-9aea-44c2-b99b-72562d783dd5"
      },
      "source": [
        "import folium\n",
        "zoom='3'\n",
        "lat=0\n",
        "lon=0\n",
        "#création de la carte et affichage\n",
        "ma_carte1=folium.Map(location=[lat,lon],zoom_start=zoom)\n",
        "display(ma_carte1)"
      ],
      "execution_count": 4,
      "outputs": [
        {
          "output_type": "display_data",
          "data": {
            "text/html": [
              "<div style=\"width:100%;\"><div style=\"position:relative;width:100%;height:0;padding-bottom:60%;\"><iframe src=\"data:text/html;charset=utf-8;base64,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\" style=\"position:absolute;width:100%;height:100%;left:0;top:0;border:none !important;\" allowfullscreen webkitallowfullscreen mozallowfullscreen></iframe></div></div>"
            ],
            "text/plain": [
              "<folium.folium.Map at 0x7fd88b32ab00>"
            ]
          },
          "metadata": {
            "tags": []
          }
        }
      ]
    },
    {
      "cell_type": "code",
      "metadata": {
        "id": "qiEgMNYa6gvv",
        "colab_type": "code",
        "colab": {
          "base_uri": "https://localhost:8080/",
          "height": 1069
        },
        "outputId": "1039a674-78d5-4ea5-adf7-7365304ee206"
      },
      "source": [
        "import folium\n",
        "zoom='18'\n",
        "lat=-12.780701\n",
        "lon=45.231619\n",
        "#création de la carte et affichage\n",
        "ma_carte1=folium.Map(location=[lat,lon],zoom_start=zoom)\n",
        "display(ma_carte1)"
      ],
      "execution_count": 1,
      "outputs": [
        {
          "output_type": "display_data",
          "data": {
            "text/html": [
              "<div style=\"width:100%;\"><div style=\"position:relative;width:100%;height:0;padding-bottom:60%;\"><iframe src=\"data:text/html;charset=utf-8;base64,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\" style=\"position:absolute;width:100%;height:100%;left:0;top:0;border:none !important;\" allowfullscreen webkitallowfullscreen mozallowfullscreen></iframe></div></div>"
            ],
            "text/plain": [
              "<folium.folium.Map at 0x7fd870bd4eb8>"
            ]
          },
          "metadata": {
            "tags": []
          }
        }
      ]
    },
    {
      "cell_type": "markdown",
      "metadata": {
        "id": "qIV4W_wTYbHX",
        "colab_type": "text"
      },
      "source": [
        "La même avec un marqueur \n",
        "et une information sur ce lieu"
      ]
    },
    {
      "cell_type": "code",
      "metadata": {
        "id": "ai-_WY2QYi0q",
        "colab_type": "code",
        "colab": {}
      },
      "source": [
        "import folium\n",
        "zoom='18'\n",
        "lat=-12.780701\n",
        "lon=45.231619\n",
        "#création de la carte et affichage\n",
        "ma_carte1=folium.Map(location=[lat,lon],zoom_start=zoom)\n",
        "#création du marqueur et du texte à afficher\n",
        "texte=\"Dzaoudzi-Mayotte\"\n",
        "folium.Marker([lat,lon],popup=texte,icon=folium.Icon(color='red')).add_to(ma_carte1)\n",
        "display(ma_carte1)"
      ],
      "execution_count": 0,
      "outputs": []
    },
    {
      "cell_type": "markdown",
      "metadata": {
        "id": "QWfO4myhiyZG",
        "colab_type": "text"
      },
      "source": [
        "Dans un IDE python avec la bibliothèque webbrowser\n",
        "on peut faire afficher une carte OpenStreetMap  depuis le programme\n",
        "\n",
        "non fonctionnel dans ce notebook\n",
        "\n",
        "c'est intéressant pour voir la structure de l'URL"
      ]
    },
    {
      "cell_type": "code",
      "metadata": {
        "id": "7QnmF1LBjAVO",
        "colab_type": "code",
        "colab": {
          "base_uri": "https://localhost:8080/",
          "height": 35
        },
        "outputId": "75311f27-c4a2-41e8-d57b-d96226676aec"
      },
      "source": [
        "import webbrowser\n",
        "zoom='18'\n",
        "lat=-12.780701\n",
        "lon=45.231619\n",
        "url=\"https://www.openstreetmap.org/note/new?lat='+str(lat)+'&lon='+str(lon)+'#map='+zoom+'/'+str(lat)+'/'+str(lon)\"\n",
        "#webbrowser.open('https://www.openstreetmap.org/note/new?lat='+str(lat)+'&lon='+str(lon)+'#map='+zoom+'/'+str(lat)+'/'+str(lon))\n",
        "display(url)"
      ],
      "execution_count": 5,
      "outputs": [
        {
          "output_type": "display_data",
          "data": {
            "text/plain": [
              "\"https://www.openstreetmap.org/note/new?lat='+str(lat)+'&lon='+str(lon)+'#map='+zoom+'/'+str(lat)+'/'+str(lon)\""
            ]
          },
          "metadata": {
            "tags": []
          }
        }
      ]
    },
    {
      "cell_type": "markdown",
      "metadata": {
        "id": "vAoI1LCekeQM",
        "colab_type": "text"
      },
      "source": [
        "# Afficher un lieu (ville) sur une carte à partir de son nom\n",
        "\n",
        "La bibliothèque geopy permet de faire cela"
      ]
    },
    {
      "cell_type": "code",
      "metadata": {
        "id": "kFdv-SpGk0IT",
        "colab_type": "code",
        "colab": {}
      },
      "source": [
        "# =============================================================================\n",
        "# Utilisation de la bibliothèque geopy pour repérer\n",
        "# une ville sur une carte et la faire afficher avec un navigateur\n",
        "# on utilise le geocoder nominatim ( il y en a d'autres) BANFrance,ArcGIS\n",
        "# =============================================================================\n",
        "from geopy.geocoders import Nominatim\n",
        "import folium\n",
        "#import webbrowser\n",
        "\n",
        "# fonctionnel (sans clé api)\n",
        "#from geopy.geocoders import ArcGIS\n",
        "#geolocator = ArcGIS()\n",
        "\n",
        "zoom='18'\n",
        "geolocator = Nominatim()\n",
        "location = geolocator.geocode(\"Dzaoudzi\")\n",
        "print(location.address)\n",
        "print(location.latitude, location.longitude)\n",
        "lat=location.latitude\n",
        "lon=location.longitude\n",
        "ma_carte2=folium.Map(location=[lat,lon],zoom_start=zoom)\n",
        "\n",
        "texte=\"Dzaoudzi-Mayotte\"\n",
        "folium.Marker([lat,lon],popup=texte,icon=folium.Icon(color='red')).add_to(ma_carte2)\n",
        "display(ma_carte2)\n",
        "#lat=str(location.latitude)\n",
        "#lon=str(location.longitude)\n",
        "#webbrowser.open('https://www.openstreetmap.org/note/new?lat='+lat+'&lon='+lon+'#map='+zoom+'/'+lat+'/'+lon)"
      ],
      "execution_count": 0,
      "outputs": []
    },
    {
      "cell_type": "markdown",
      "metadata": {
        "id": "xj81M0TimbbI",
        "colab_type": "text"
      },
      "source": [
        "**Les limites du geocoder Nominatim :**\n",
        "\n",
        "Si on cherche la ville d'Orléans, Nominatim nous envoie au Canada..."
      ]
    },
    {
      "cell_type": "code",
      "metadata": {
        "id": "QPtW3lasmwuY",
        "colab_type": "code",
        "colab": {}
      },
      "source": [
        "from geopy.geocoders import Nominatim\n",
        "import folium\n",
        "#import webbrowser\n",
        "\n",
        "# fonctionnel (sans clé api)\n",
        "#from geopy.geocoders import ArcGIS\n",
        "#geolocator = ArcGIS()\n",
        "\n",
        "zoom='18'\n",
        "geolocator = Nominatim()\n",
        "location = geolocator.geocode(\"Orléans\")\n",
        "print(location.address)\n",
        "print(location.latitude, location.longitude)\n",
        "lat=location.latitude\n",
        "lon=location.longitude\n",
        "ma_carte3=folium.Map(location=[lat,lon],zoom_start=zoom)\n",
        "\n",
        "texte=\"Orléans\"\n",
        "folium.Marker([lat,lon],popup=texte,icon=folium.Icon(color='red')).add_to(ma_carte3)\n",
        "display(ma_carte3)\n",
        "#lat=str(location.latitude)\n",
        "#lon=str(location.longitude)\n",
        "#webbrowser.open('https://www.openstreetmap.org/note/new?lat='+lat+'&lon='+lon+'#map='+zoom+'/'+lat+'/'+lon)"
      ],
      "execution_count": 0,
      "outputs": []
    },
    {
      "cell_type": "markdown",
      "metadata": {
        "id": "evJXvMalnRId",
        "colab_type": "text"
      },
      "source": [
        "**Pour obtenir la ville d'Orléans en France, il faut changer de geocoder:**\n",
        "\n",
        "On utilise ArcGIS "
      ]
    },
    {
      "cell_type": "code",
      "metadata": {
        "id": "B2CPVpzJnnmo",
        "colab_type": "code",
        "colab": {}
      },
      "source": [
        "#from geopy.geocoders import Nominatim\n",
        "import folium\n",
        "#import webbrowser\n",
        "\n",
        "# fonctionnel (sans clé api)\n",
        "from geopy.geocoders import ArcGIS\n",
        "geolocator = ArcGIS()\n",
        "\n",
        "zoom='18'\n",
        "#geolocator = Nominatim()\n",
        "location = geolocator.geocode(\"Orléans\")\n",
        "print(location.address)\n",
        "print(location.latitude, location.longitude)\n",
        "lat=location.latitude\n",
        "lon=location.longitude\n",
        "ma_carte3=folium.Map(location=[lat,lon],zoom_start=zoom)\n",
        "\n",
        "texte=\"Orléans\"\n",
        "folium.Marker([lat,lon],popup=texte,icon=folium.Icon(color='red')).add_to(ma_carte3)\n",
        "display(ma_carte3)\n",
        "#lat=str(location.latitude)\n",
        "#lon=str(location.longitude)\n",
        "#webbrowser.open('https://www.openstreetmap.org/note/new?lat='+lat+'&lon='+lon+'#map='+zoom+'/'+lat+'/'+lon)"
      ],
      "execution_count": 0,
      "outputs": []
    },
    {
      "cell_type": "markdown",
      "metadata": {
        "id": "mcBwwu86osYE",
        "colab_type": "text"
      },
      "source": [
        "# Affichage de deux villes sur une carte \n",
        "\n",
        "C'est le même principe ...\n",
        "\n",
        "\n",
        "Dans cet exemple on affiche la ville de draguignan et celle de Nice\n",
        "\n",
        "On voit aussi la manière d'enregistrer la carte dans le dossier du script (voir les fichiers ci-contre)"
      ]
    },
    {
      "cell_type": "code",
      "metadata": {
        "id": "THJ5DmVlpOcj",
        "colab_type": "code",
        "colab": {
          "base_uri": "https://localhost:8080/",
          "height": 1126
        },
        "outputId": "5fe254fa-55d2-49a4-c413-963d5b62e4a3"
      },
      "source": [
        "# import des biblothèques\n",
        "from geopy.geocoders import Nominatim\n",
        "import webbrowser\n",
        "import folium\n",
        "\n",
        "\n",
        "# fonctionnel (sans clé api)\n",
        "#from geopy.geocoders import ArcGIS\n",
        "#geolocator = ArcGIS()\n",
        "\n",
        "\n",
        "# recherche des coordonnées\n",
        "geolocator = Nominatim()\n",
        "location1 = geolocator.geocode(\"Nice\")\n",
        "location2 = geolocator.geocode(\"Draguignan\")\n",
        "\n",
        "lat1=location1.latitude\n",
        "lon1=location1.longitude\n",
        "lat2=location2.latitude\n",
        "lon2=location2.longitude\n",
        "\n",
        "#print(type(lat1))\n",
        "#affichage\n",
        "c= folium.Map(location=[lat1, lon1],zoom_start=10)\n",
        "folium.Marker([lat1,  lon1],popup=\"Nice\").add_to(c)\n",
        "folium.Marker([lat2,  lon2],popup=\"Draguignan\").add_to(c)\n",
        "c.save('maCarte4.html')\n",
        "#webbrowser.open('macarte4.html')\n",
        "display(c)"
      ],
      "execution_count": 6,
      "outputs": [
        {
          "output_type": "stream",
          "text": [
            "/usr/local/lib/python3.6/dist-packages/geopy/geocoders/osm.py:143: UserWarning: Using Nominatim with the default \"geopy/1.17.0\" `user_agent` is strongly discouraged, as it violates Nominatim's ToS https://operations.osmfoundation.org/policies/nominatim/ and may possibly cause 403 and 429 HTTP errors. Please specify a custom `user_agent` with `Nominatim(user_agent=\"my-application\")` or by overriding the default `user_agent`: `geopy.geocoders.options.default_user_agent = \"my-application\"`. In geopy 2.0 this will become an exception.\n",
            "  UserWarning\n"
          ],
          "name": "stderr"
        },
        {
          "output_type": "display_data",
          "data": {
            "text/html": [
              "<div style=\"width:100%;\"><div style=\"position:relative;width:100%;height:0;padding-bottom:60%;\"><iframe src=\"data:text/html;charset=utf-8;base64,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\" style=\"position:absolute;width:100%;height:100%;left:0;top:0;border:none !important;\" allowfullscreen webkitallowfullscreen mozallowfullscreen></iframe></div></div>"
            ],
            "text/plain": [
              "<folium.folium.Map at 0x7fd86faeb7b8>"
            ]
          },
          "metadata": {
            "tags": []
          }
        }
      ]
    },
    {
      "cell_type": "markdown",
      "metadata": {
        "id": "tbS79S9Hq1YA",
        "colab_type": "text"
      },
      "source": [
        "# Calcul de la distance géodésique entre deux villes\n",
        "\n",
        "Le programme suivant calcule la distance géodésique entre Nice et Draguignan en miles"
      ]
    },
    {
      "cell_type": "code",
      "metadata": {
        "id": "6Nk81o42rF-D",
        "colab_type": "code",
        "colab": {
          "base_uri": "https://localhost:8080/",
          "height": 92
        },
        "outputId": "fbb434d5-2852-4b37-e8d1-41c1a5185f97"
      },
      "source": [
        "# =============================================================================\n",
        "# calcul de distance géodésique entre deux villes\n",
        "# =============================================================================\n",
        "from geopy.geocoders import Nominatim\n",
        "from geopy.distance import geodesic\n",
        "\n",
        "# fonctionnel (sans clé api)\n",
        "#from geopy.geocoders import ArcGIS\n",
        "#geolocator = ArcGIS()\n",
        "\n",
        "\n",
        "\n",
        "geolocator = Nominatim()\n",
        "location1 = geolocator.geocode(\"Nice\")\n",
        "location2 = geolocator.geocode(\"Draguignan\")\n",
        "\n",
        "point1=(location1.latitude,location1.longitude)\n",
        "point2=(location2.latitude,location2.longitude)\n",
        "\n",
        "print(geodesic(point1,point2).miles)"
      ],
      "execution_count": 7,
      "outputs": [
        {
          "output_type": "stream",
          "text": [
            "/usr/local/lib/python3.6/dist-packages/geopy/geocoders/osm.py:143: UserWarning: Using Nominatim with the default \"geopy/1.17.0\" `user_agent` is strongly discouraged, as it violates Nominatim's ToS https://operations.osmfoundation.org/policies/nominatim/ and may possibly cause 403 and 429 HTTP errors. Please specify a custom `user_agent` with `Nominatim(user_agent=\"my-application\")` or by overriding the default `user_agent`: `geopy.geocoders.options.default_user_agent = \"my-application\"`. In geopy 2.0 this will become an exception.\n",
            "  UserWarning\n"
          ],
          "name": "stderr"
        },
        {
          "output_type": "stream",
          "text": [
            "41.954307010604055\n"
          ],
          "name": "stdout"
        }
      ]
    },
    {
      "cell_type": "markdown",
      "metadata": {
        "id": "_1BqsC6or76_",
        "colab_type": "text"
      },
      "source": [
        "# Itinéraires\n",
        "\n",
        "La bibliothèque pyroutlib3 est toute indiquée pour réaliser des itinéraires\n",
        "\n",
        "Il faut dans un premier temps l'installer ( pour un Python 3.6 et supérieur)\n",
        "\n",
        "Non fonctionnel dans EduPython ( Python 3.4) pour le moment..."
      ]
    },
    {
      "cell_type": "code",
      "metadata": {
        "id": "H29QrnJmsKIR",
        "colab_type": "code",
        "colab": {
          "base_uri": "https://localhost:8080/",
          "height": 201
        },
        "outputId": "bad36c89-a667-46c9-a6e8-7cdb3d2a24ca"
      },
      "source": [
        "pip install pyroutelib3"
      ],
      "execution_count": 9,
      "outputs": [
        {
          "output_type": "stream",
          "text": [
            "Collecting pyroutelib3\n",
            "  Downloading https://files.pythonhosted.org/packages/40/d9/31dd8eca3dac5f02e8e95260bcb59da3e3d0317a07f96243903f3981cf00/pyroutelib3-1.3.post1.tar.gz\n",
            "Requirement already satisfied: python-dateutil in /usr/local/lib/python3.6/dist-packages (from pyroutelib3) (2.5.3)\n",
            "Requirement already satisfied: six>=1.5 in /usr/local/lib/python3.6/dist-packages (from python-dateutil->pyroutelib3) (1.12.0)\n",
            "Building wheels for collected packages: pyroutelib3\n",
            "  Building wheel for pyroutelib3 (setup.py) ... \u001b[?25l\u001b[?25hdone\n",
            "  Stored in directory: /root/.cache/pip/wheels/ad/3a/ba/7345b238853dd1181f6268ea9d4a5160794adb03fb39bdfa34\n",
            "Successfully built pyroutelib3\n",
            "Installing collected packages: pyroutelib3\n",
            "Successfully installed pyroutelib3-1.3.post1\n"
          ],
          "name": "stdout"
        }
      ]
    },
    {
      "cell_type": "markdown",
      "metadata": {
        "id": "L2whSQcPtl6w",
        "colab_type": "text"
      },
      "source": [
        "**Le programme suivant affiche une liste de points géolocalisés entre les villes de Draguignan et du Muy**\n",
        "\n",
        "On remarque qu'il y a un paramètre Router(\"car\")  ( en voiture )\n",
        "\n",
        "On peut choisir d'autres moyens de transports: cycle, foot, horse, tram, train\n",
        "\n",
        "Il y a 382 marqueurs ...."
      ]
    },
    {
      "cell_type": "code",
      "metadata": {
        "id": "z3Npe3XmsatA",
        "colab_type": "code",
        "outputId": "90fd6e99-cdf7-465d-9035-a9d0fc58e529",
        "colab": {
          "base_uri": "https://localhost:8080/",
          "height": 74
        }
      },
      "source": [
        "from pyroutelib3 import Router\n",
        "\n",
        "#from geopy.geocoders import Nominatim\n",
        "#geolocator = Nominatim()\n",
        "\n",
        "from geopy.geocoders import ArcGIS\n",
        "geolocator = ArcGIS()\n",
        "\n",
        "location1 = geolocator.geocode(\"Le Muy\")\n",
        "location2 = geolocator.geocode(\"Draguignan\")\n",
        "\n",
        "#lat1=43.53520\n",
        "#lon1=6.47070\n",
        "#lat2=43.47187\n",
        "#lon2=6.54500\n",
        "\n",
        "lat1=location1.latitude\n",
        "lon1=location1.longitude\n",
        "\n",
        "lat2=location2.latitude\n",
        "lon2=location2.longitude\n",
        "\n",
        "router = Router(\"car\")\n",
        "depart = router.findNode(lat1, lon1)\n",
        "arrivee = router.findNode(lat2,  lon2)\n",
        "status, route = router.doRoute(depart, arrivee)\n",
        "if status == 'success':\n",
        "    routeLatLons = list(map(router.nodeLatLon, route))\n",
        "print(routeLatLons)\n",
        "print(len(routeLatLons))"
      ],
      "execution_count": 10,
      "outputs": [
        {
          "output_type": "stream",
          "text": [
            "[(43.4716851, 6.5659974), (43.4720515, 6.5661342), (43.4722512, 6.566201), (43.4724698, 6.5662726), (43.4724892, 6.5660246), (43.4724911, 6.5657392), (43.4724936, 6.5653745), (43.4725046, 6.5652716), (43.4726779, 6.5643599), (43.472761, 6.5639849), (43.4727464, 6.5638738), (43.4727124, 6.5638434), (43.4726826, 6.5638168), (43.4726471, 6.5638152), (43.4725987, 6.5637452), (43.4725975, 6.5636345), (43.4725961, 6.5635019), (43.4727247, 6.5628497), (43.4727443, 6.5627504), (43.4728119, 6.5620331), (43.472848, 6.5613022), (43.4728494, 6.5612616), (43.4728565, 6.5611143), (43.4727384, 6.5610736), (43.4727072, 6.5610628), (43.472621, 6.5610331), (43.4724282, 6.5610231), (43.4723761, 6.5610204), (43.4721726, 6.5610378), (43.4719684, 6.5611036), (43.4718546, 6.5611511), (43.4715511, 6.561245), (43.4712328, 6.5613829), (43.4709232, 6.5615171), (43.4707813, 6.5615898), (43.4706952, 6.5615995), (43.470557, 6.5615634), (43.470505, 6.5615259), (43.4704375, 6.5614332), (43.4703889, 6.5612737), (43.4702863, 6.5607289), (43.4702395, 6.5604829), (43.4701092, 6.559934), (43.4699976, 6.5593238), (43.4697161, 6.5579197), (43.46966, 6.5576054), (43.4695275, 6.5568578), (43.4694968, 6.5566784), (43.4694762, 6.5565911), (43.4693555, 6.5560809), (43.4691754, 6.5553547), (43.4689568, 6.5545048), (43.4677423, 6.5498075), (43.4676799, 6.5495864), (43.4674573, 6.5487046), (43.4673814, 6.5483118), (43.4673741, 6.5480751), (43.4673907, 6.5478844), (43.4674079, 6.5477444), (43.4674546, 6.5477093), (43.4675011, 6.547647), (43.4675311, 6.5475677), (43.4675416, 6.5474795), (43.4675316, 6.5473912), (43.4675517, 6.5472816), (43.4675937, 6.5471694), (43.4676109, 6.547064), (43.4676011, 6.5469315), (43.4673691, 6.5456973), (43.4673494, 6.5455716), (43.4673542, 6.5454559), (43.4673838, 6.5453657), (43.4674407, 6.5452802), (43.4675321, 6.5452014), (43.4688609, 6.5446721), (43.4694559, 6.544422), (43.4697917, 6.5442373), (43.4701698, 6.5439356), (43.4703012, 6.5438079), (43.4704046, 6.5437037), (43.4707043, 6.5433575), (43.4708858, 6.5431477), (43.4711704, 6.5425817), (43.4749655, 6.5343265), (43.4750606, 6.5342177), (43.4751258, 6.5341923), (43.4751827, 6.5341415), (43.4752263, 6.53407), (43.4752527, 6.5339839), (43.4752598, 6.5339068), (43.4752529, 6.5338297), (43.4752325, 6.5337572), (43.4753072, 6.5336095), (43.4754469, 6.5332143), (43.4757366, 6.5324909), (43.4758778, 6.5321545), (43.4761028, 6.5316357), (43.4765469, 6.5306205), (43.4767317, 6.5301961), (43.4768116, 6.5300126), (43.477088, 6.5293743), (43.477363, 6.5286529), (43.4778923, 6.5271675), (43.478457, 6.5255767), (43.478707, 6.5248391), (43.4789643, 6.5240144), (43.479179, 6.5232362), (43.4793363, 6.5226344), (43.4795282, 6.5219348), (43.4796025, 6.5217894), (43.4796237, 6.5217353), (43.4796798, 6.5217093), (43.4797293, 6.5216645), (43.4797688, 6.5216038), (43.4798007, 6.5215106), (43.4798093, 6.5214082), (43.4797936, 6.5213075), (43.479774, 6.521254), (43.4797475, 6.5212066), (43.47975, 6.5209765), (43.4798157, 6.5206303), (43.4799627, 6.5198501), (43.4801994, 6.5185248), (43.480273, 6.5181297), (43.4803763, 6.5175716), (43.4804558, 6.5168983), (43.4805843, 6.5157305), (43.480761, 6.5139943), (43.4808972, 6.5126661), (43.4809519, 6.5122623), (43.4810381, 6.5117793), (43.4811816, 6.5112834), (43.4813213, 6.5109506), (43.4816233, 6.5104693), (43.481964, 6.5101125), (43.4823676, 6.5098413), (43.4827122, 6.5096969), (43.4830766, 6.509614), (43.4833279, 6.5096121), (43.4834141, 6.5096976), (43.4835161, 6.509725), (43.4836206, 6.5096801), (43.4836412, 6.5096712), (43.4837006, 6.5095951), (43.4837391, 6.5095034), (43.4839506, 6.5093915), (43.4858203, 6.5088481), (43.4867242, 6.5085694), (43.4877829, 6.508138), (43.4906666, 6.5068471), (43.491572, 6.5063719), (43.4920434, 6.5059921), (43.4925326, 6.5054415), (43.4928854, 6.5048795), (43.4931979, 6.5042145), (43.493385, 6.5036292), (43.4934366, 6.5034292), (43.4935551, 6.5031975), (43.4936193, 6.5030178), (43.4936602, 6.5027442), (43.4936991, 6.5025619), (43.49374, 6.5024331), (43.4937945, 6.5023714), (43.493888, 6.502321), (43.493812, 6.5020335), (43.493738, 6.5016472), (43.4936894, 6.5012637), (43.4936018, 6.5008185), (43.4935941, 6.5005297), (43.4934687, 6.498597), (43.4934928, 6.4977098), (43.4936239, 6.4969689), (43.4938186, 6.4963268), (43.4944022, 6.4951878), (43.495008, 6.4941023), (43.4951173, 6.4939877), (43.4951971, 6.4939809), (43.4952711, 6.4939393), (43.4953315, 6.4938673), (43.495372, 6.4937723), (43.4953873, 6.4936844), (43.4953852, 6.493594), (43.4954964, 6.493275), (43.4959286, 6.4923517), (43.4962439, 6.4918069), (43.4965986, 6.4913653), (43.4971252, 6.4908109), (43.4974156, 6.4903172), (43.4978358, 6.4893673), (43.4982441, 6.4884036), (43.4985326, 6.4876606), (43.4988823, 6.4869145), (43.4993449, 6.48626), (43.499883, 6.4857255), (43.5000273, 6.4856368), (43.5001066, 6.4856732), (43.5002122, 6.4856465), (43.5002455, 6.4856117), (43.5002888, 6.4855665), (43.5003218, 6.4854541), (43.5003218, 6.4854172), (43.5003217, 6.4853374), (43.500462, 6.485173), (43.5009574, 6.4847497), (43.5013907, 6.4844688), (43.5024701, 6.4839994), (43.5030937, 6.483731), (43.5038692, 6.4832858), (43.5039966, 6.4832141), (43.5042694, 6.4830418), (43.5046356, 6.4827788), (43.5049746, 6.4826277), (43.5050437, 6.4825993), (43.5051948, 6.4825412), (43.5053414, 6.4824965), (43.5056285, 6.4824433), (43.5070053, 6.4823827), (43.5074537, 6.482273), (43.5080513, 6.4819541), (43.5082644, 6.481818), (43.5083795, 6.481769), (43.508448, 6.4818183), (43.5085248, 6.4818284), (43.5085988, 6.481798), (43.5086551, 6.4817378), (43.5086926, 6.4816543), (43.5087068, 6.4815581), (43.5088174, 6.481422), (43.5091456, 6.4811815), (43.5105213, 6.4800251), (43.5110411, 6.4796125), (43.5125189, 6.478406), (43.5130599, 6.4779173), (43.5136434, 6.477389), (43.5142013, 6.476952), (43.5143834, 6.4769028), (43.5144466, 6.4769303), (43.5145128, 6.4769308), (43.5145761, 6.4769042), (43.5146309, 6.4768528), (43.5146721, 6.4767813), (43.5146961, 6.4766962), (43.5147007, 6.4766051), (43.514804, 6.4764784), (43.5149073, 6.4763987), (43.5152829, 6.4761091), (43.5153866, 6.4760323), (43.5160022, 6.4755023), (43.5160884, 6.4754094), (43.5164748, 6.4749934), (43.5167536, 6.4745441), (43.5168682, 6.4743534), (43.5170726, 6.474054), (43.5172432, 6.4738), (43.5173341, 6.4737003), (43.5176069, 6.4734474), (43.5178676, 6.4732777), (43.5184077, 6.4730056), (43.5190854, 6.4727834), (43.5194202, 6.4726969), (43.5196041, 6.4726362), (43.5197984, 6.4726171), (43.5198404, 6.4726659), (43.519891, 6.4726951), (43.5199457, 6.4727021), (43.5199994, 6.4726862), (43.5200471, 6.4726489), (43.5203062, 6.4727578), (43.5206665, 6.4729139), (43.5210998, 6.473089), (43.5213738, 6.4731542), (43.5216453, 6.4731722), (43.5223807, 6.4730796), (43.522877, 6.4729923), (43.5231995, 6.4729293), (43.523441, 6.4728735), (43.5236987, 6.4727444), (43.5239237, 6.4725949), (43.5241929, 6.4723197), (43.524307, 6.472202), (43.5248075, 6.4715939), (43.5249897, 6.4714431), (43.5251837, 6.4713518), (43.5253231, 6.4713186), (43.5254987, 6.471319), (43.5259548, 6.4714471), (43.5262192, 6.471532), (43.5265517, 6.4716154), (43.5265669, 6.4716428), (43.5265877, 6.4716621), (43.5266119, 6.4716711), (43.5266369, 6.4716691), (43.5266601, 6.4716561), (43.5273109, 6.4717658), (43.5275338, 6.4718159), (43.5280715, 6.4719832), (43.5282326, 6.4720173), (43.5283926, 6.4720372), (43.5285973, 6.472003), (43.5288252, 6.4719133), (43.5291502, 6.4716829), (43.5293827, 6.4714309), (43.5297624, 6.4709778), (43.5299249, 6.4709216), (43.5299457, 6.4709254), (43.5299666, 6.4709245), (43.5299958, 6.470915), (43.5300226, 6.4708962), (43.5300455, 6.4708694), (43.5300632, 6.4708358), (43.5300747, 6.4707975), (43.5300794, 6.4707471), (43.5300735, 6.4706968), (43.5300814, 6.4706581), (43.5301134, 6.4705643), (43.5301404, 6.4704794), (43.5302526, 6.4703249), (43.530348, 6.470236), (43.5305806, 6.4700797), (43.5307069, 6.470105), (43.5309027, 6.4701666), (43.5311973, 6.4702738), (43.5312738, 6.470312), (43.5320435, 6.4707002), (43.5323092, 6.4708182), (43.5325405, 6.4709093), (43.5325453, 6.4709189), (43.5325497, 6.4709265), (43.532574, 6.4709511), (43.5326032, 6.470961), (43.532633, 6.4709548), (43.5326588, 6.4709332), (43.5326766, 6.4708998), (43.5327714, 6.4708205), (43.532972, 6.4704185), (43.5330048, 6.4703606), (43.533379, 6.4696912), (43.5339723, 6.4686264), (43.5341018, 6.4683983), (43.5348439, 6.4670916), (43.5349783, 6.4668549), (43.5356838, 6.4656114), (43.5356944, 6.4655924), (43.5358303, 6.4653546), (43.5359317, 6.4651714), (43.5359771, 6.46509), (43.5360466, 6.4649693), (43.5363399, 6.4644638), (43.5365059, 6.4641699), (43.5365946, 6.4640039), (43.5368267, 6.4635695), (43.5368388, 6.4635469), (43.5368557, 6.4635153), (43.5368963, 6.4634444), (43.5371627, 6.462979), (43.5373365, 6.4626756), (43.5374397, 6.4624979), (43.5377725, 6.4619102), (43.5377865, 6.4618858), (43.5377967, 6.4618684), (43.5378274, 6.4618942), (43.5378546, 6.4618948), (43.537884, 6.4618729), (43.5378954, 6.4618514), (43.5379221, 6.461881), (43.537996, 6.4619481), (43.5380264, 6.461974), (43.5382297, 6.4621601), (43.5391756, 6.4630183), (43.5392498, 6.4630856), (43.539277, 6.4631102), (43.5394144, 6.4632323), (43.5394617, 6.4632743), (43.5401918, 6.4640086), (43.5402381, 6.4640551), (43.5400305, 6.4644902), (43.5400201, 6.4644784), (43.539878, 6.4643833), (43.5397721, 6.4642876), (43.5396994, 6.4641771), (43.5396374, 6.4640502), (43.5395073, 6.4638737)]\n",
            "382\n"
          ],
          "name": "stdout"
        }
      ]
    },
    {
      "cell_type": "markdown",
      "metadata": {
        "id": "tHBQ-lWLwGcW",
        "colab_type": "text"
      },
      "source": [
        "**En faisant afficher le tout sur une carte:**\n",
        "\n",
        "Comme il y a 382 marqueurs, on fera en sorte d'en afficher qu'un sur 10."
      ]
    },
    {
      "cell_type": "code",
      "metadata": {
        "id": "NQYhwDCOxHg0",
        "colab_type": "code",
        "colab": {}
      },
      "source": [
        "from pyroutelib3 import Router\n",
        "import folium\n",
        "import webbrowser\n",
        "#from geopy.geocoders import Nominatim\n",
        "#geolocator = Nominatim()\n",
        "\n",
        "from geopy.geocoders import ArcGIS\n",
        "geolocator = ArcGIS()\n",
        "\n",
        "location1 = geolocator.geocode(\"Le Muy\")\n",
        "location2 = geolocator.geocode(\"Draguignan\")\n",
        "\n",
        "#lat1=43.53520\n",
        "#lon1=6.47070\n",
        "#lat2=43.47187\n",
        "#lon2=6.54500\n",
        "\n",
        "lat1=location1.latitude\n",
        "lon1=location1.longitude\n",
        "\n",
        "lat2=location2.latitude\n",
        "lon2=location2.longitude\n",
        "\n",
        "router = Router(\"car\")\n",
        "depart = router.findNode(lat1, lon1)\n",
        "arrivee = router.findNode(lat2,  lon2)\n",
        "status, route = router.doRoute(depart, arrivee)\n",
        "if status == 'success':\n",
        "    routeLatLons = list(map(router.nodeLatLon, route))\n",
        "\n",
        "c= folium.Map(location=[lat1, lon1],zoom_start=10)\n",
        "for indice,coord in enumerate(routeLatLons):\n",
        "    if indice%10==0:\n",
        "        coord=list(coord)\n",
        "        folium.Marker(coord).add_to(c)\n",
        "c.save('maCarte5.html')\n",
        "#webbrowser.open('maCarte_1.html') \n",
        "display(c)\n"
      ],
      "execution_count": 0,
      "outputs": []
    },
    {
      "cell_type": "markdown",
      "metadata": {
        "id": "oiERFaEty2Jy",
        "colab_type": "text"
      },
      "source": [
        "**Pour aller plus loin...**\n",
        "\n",
        "calculer la distance en Km entre ces deux villes en suivant l'itinéraire.\n",
        "\n",
        "routeLatLons est une liste de couples.\n",
        "\n",
        "\n",
        "Si on additionne les distances géodésiques de points rapprochés on obtient une distance très proche de la distance réelle.\n",
        "\n",
        "résultat à comparer avec ce que l'on trouve sur le web"
      ]
    },
    {
      "cell_type": "code",
      "metadata": {
        "id": "W294whO-zJWH",
        "colab_type": "code",
        "outputId": "6e5fee63-3a4a-4095-ec5c-86f1ba15cc48",
        "colab": {
          "base_uri": "https://localhost:8080/",
          "height": 72
        }
      },
      "source": [
        "from pyroutelib3 import Router\n",
        "\n",
        "#from geopy.geocoders import Nominatim\n",
        "#geolocator = Nominatim()\n",
        "\n",
        "from geopy.geocoders import ArcGIS\n",
        "from geopy.distance import geodesic\n",
        "geolocator = ArcGIS()\n",
        "\n",
        "location1 = geolocator.geocode(\"Le Muy\")\n",
        "location2 = geolocator.geocode(\"Draguignan\")\n",
        "\n",
        "#lat1=43.53520\n",
        "#lon1=6.47070\n",
        "#lat2=43.47187\n",
        "#lon2=6.54500\n",
        "\n",
        "lat1=location1.latitude\n",
        "lon1=location1.longitude\n",
        "\n",
        "lat2=location2.latitude\n",
        "lon2=location2.longitude\n",
        "\n",
        "router = Router(\"car\")\n",
        "depart = router.findNode(lat1, lon1)\n",
        "arrivee = router.findNode(lat2,  lon2)\n",
        "status, route = router.doRoute(depart, arrivee)\n",
        "if status == 'success':\n",
        "    routeLatLons = list(map(router.nodeLatLon, route))\n",
        "\n",
        "d=0\n",
        "\n",
        "for i in range(0,len(routeLatLons)-1,1):\n",
        "  d=d+geodesic(routeLatLons[i],routeLatLons[i+1]).miles\n",
        "\n",
        "print(d, \" miles\")\n",
        "print(\"soit :\")\n",
        "print(float(d)*1.60934,\" km\")\n",
        "  \n",
        "  "
      ],
      "execution_count": 0,
      "outputs": [
        {
          "output_type": "stream",
          "text": [
            "8.84399779591757  miles\n",
            "soit :\n",
            "14.232999412881982  km\n"
          ],
          "name": "stdout"
        }
      ]
    },
    {
      "cell_type": "markdown",
      "metadata": {
        "id": "64sbpR9N2d2b",
        "colab_type": "text"
      },
      "source": [
        "# Faire le lien avec les données structurées\n",
        "\n",
        "* Le premier programme affiche les lieux des tremblements de terre recencés le mois dernier de magnitude supérieure à 2.5\n",
        "\n",
        "\n",
        "\n",
        "Résultat à comparer avec une carte des dorsales océaniques\n",
        "\n",
        "* Le second programme affiche le nombre d'habitants des villes du var avec un marqueur\n",
        "\n",
        "* Le troisième est une tentative de data visualisation sur le nombre d'habitants des villes du var\n",
        "\n",
        "On utilise la bibliothèque csv, qui permet de manipuler des fichiers csv\n",
        "\n"
      ]
    },
    {
      "cell_type": "code",
      "metadata": {
        "id": "fB-WaOb4246X",
        "colab_type": "code",
        "colab": {}
      },
      "source": [
        "'''\n",
        "Programme qui affiche sur une carte les lieux des séismes de magnitudes supérieure à 2.5\n",
        "en rouge si la magnitude est supérieure à 5\n",
        "en bleu entre 4 et 5\n",
        "en vert les autres\n",
        "'''\n",
        "#import des bibliothèques\n",
        "import csv\n",
        "import requests\n",
        "import webbrowser\n",
        "import folium\n",
        "\n",
        "#création de la carte\n",
        "carte_tremblements = folium.Map(location=[0,0], zoom_start=3)\n",
        "\n",
        "# Importation des données au format CSV\n",
        "url=\"http://earthquake.usgs.gov/earthquakes/feed/v1.0/summary/2.5_month.csv\"\n",
        "csvfile = requests.get(url)\n",
        "csvfile = csvfile.content.decode('utf-8')\n",
        "tremblements_csv = csv.reader(csvfile.splitlines(), delimiter=',')\n",
        "\n",
        "# pour éviter la ligne d'en têtes.\n",
        "header = next(tremblements_csv)\n",
        "\n",
        "# On lit maintenant chaque ligne  du fichier csv téléchargé\n",
        "for ligne in tremblements_csv :\n",
        "  latitude = float(ligne[1])\n",
        "  longitude = float(ligne[2])\n",
        "  magnitude = \"Magnitude : \"+ str(ligne[4])\n",
        "  if float(ligne[4]) > 5 :\n",
        "    folium.Marker([latitude,longitude],popup = magnitude,icon = folium.Icon(color='red')).add_to(carte_tremblements)\n",
        "  elif float(ligne[4]) > 4 :\n",
        "    folium.Marker([latitude,longitude],popup = magnitude,icon = folium.Icon(color='blue')).add_to(carte_tremblements)\n",
        "  else :\n",
        "    folium.Marker([latitude,longitude],popup = magnitude,icon = folium.Icon(color='green')).add_to(carte_tremblements)\n",
        "\n",
        "\n",
        "\n",
        "carte_tremblements.save('macarte6.html')\n",
        "#webbrowser.open('macarte6.html')\n",
        "display(carte_tremblements)"
      ],
      "execution_count": 0,
      "outputs": []
    },
    {
      "cell_type": "markdown",
      "metadata": {
        "id": "D0uNwFDq3dTY",
        "colab_type": "text"
      },
      "source": [
        "**La population des villes du Var**\n",
        "\n",
        "Ce programme affiche des marqueurs sur les villes du Var et indique le nombre d'habitants"
      ]
    },
    {
      "cell_type": "code",
      "metadata": {
        "id": "vDTXjOhY38NF",
        "colab_type": "code",
        "colab": {}
      },
      "source": [
        "\"\"\"\n",
        "\n",
        "population varoise\n",
        "affichage du nombre d'habitants ( chiffres 2012 )\n",
        "villes géolocalisées\n",
        "\"\"\"\n",
        "# import des bibliothèques\n",
        "import folium\n",
        "import csv\n",
        "import requests\n",
        "import webbrowser\n",
        "# importation au format csv\n",
        "url=\"https://sql.sh/ressources/sql-villes-france/villes_france.csv\"\n",
        "csvfile = requests.get(url)\n",
        "csvfile = csvfile.content.decode('utf-8')\n",
        "\n",
        "population_csv = csv.reader(csvfile.splitlines(), delimiter=',')\n",
        "\n",
        "\n",
        "# Création de la carte centrée sur Draguignan\n",
        "carte_population = folium.Map(location=[43.5374662,6.4627333], zoom_start=9)\n",
        "\n",
        "# lecture des données\n",
        "\n",
        "for ligne in population_csv :\n",
        "    if ligne[1]=='83':\n",
        "        longitude=float(ligne[19])\n",
        "        latitude=float(ligne[20])\n",
        "        population=int(ligne[15])\n",
        "        nom=str(ligne[3])\n",
        "        nom=nom+\" : \" +str(population) + \"hab\"\n",
        "        if population >=20000 :\n",
        "            folium.Marker([latitude,longitude], popup = nom, icon = folium.Icon(color='red')).add_to(carte_population)\n",
        "        elif population > 15000 :\n",
        "               folium.Marker([latitude,longitude], popup = nom, icon = folium.Icon(color='blue')).add_to(carte_population)\n",
        "        elif population > 5000 :\n",
        "            folium.Marker([latitude,longitude], popup = nom, icon = folium.Icon(color='green')).add_to(carte_population)\n",
        "        elif population > 1000 :\n",
        "            folium.Marker([latitude,longitude], popup = nom, icon = folium.Icon(color='orange')).add_to(carte_population)\n",
        "        elif population > 10:\n",
        "            folium.Marker([latitude,longitude], popup = nom, icon = folium.Icon(color='pink')).add_to(carte_population)\n",
        "\n",
        "\n",
        "#affichage\n",
        "carte_population.save(\"pop_var.html\")\n",
        "#webbrowser.open('pop_var.html')\n",
        "display(carte_population)\n"
      ],
      "execution_count": 0,
      "outputs": []
    },
    {
      "cell_type": "markdown",
      "metadata": {
        "id": "XV4bdsPq4crK",
        "colab_type": "text"
      },
      "source": [
        "**Ou celui-ci**"
      ]
    },
    {
      "cell_type": "code",
      "metadata": {
        "id": "tkP8WGJc4gXL",
        "colab_type": "code",
        "colab": {}
      },
      "source": [
        "\"\"\"\n",
        "\n",
        "population varoise\n",
        "\n",
        "\n",
        "\"\"\"\n",
        "import folium\n",
        "import csv\n",
        "import requests\n",
        "\n",
        "# importation au format csv\n",
        "url=\"https://sql.sh/ressources/sql-villes-france/villes_france.csv\"\n",
        "csvfile = requests.get(url)\n",
        "csvfile = csvfile.content.decode('utf-8')\n",
        "\n",
        "population_csv = csv.reader(csvfile.splitlines(), delimiter=',')\n",
        "\n",
        "\n",
        "# Création de la carte centrée sur 47°S 18,9°E -> En gros Tana\n",
        "carte_population = folium.Map(location=[43.5374662,6.4627333], zoom_start=10)\n",
        "\n",
        "# lecture des données\n",
        "\n",
        "for ligne in population_csv :\n",
        "    if ligne[1]=='83':\n",
        "\n",
        "        longitude=float(ligne[19])\n",
        "        latitude=float(ligne[20])\n",
        "        population=int(ligne[15])\n",
        "        nom=str(ligne[3])\n",
        "        nom=nom+\" : \" +str(population) + \" hab\"\n",
        "        rayon=population/1000\n",
        "\n",
        "        if population >=20000 :\n",
        "            folium.CircleMarker([latitude,longitude], tooltip = nom, radius = rayon,  color='red', fill_color = 'red' , fill_opacity = 0.2 ).add_to(carte_population)\n",
        "        elif population > 10000 :\n",
        "            rayon=rayon*3\n",
        "            folium.CircleMarker([latitude,longitude], tooltip = nom, radius = rayon,  color='blue', fill_color = 'blue' , fill_opacity = 0.2 ).add_to(carte_population)\n",
        "        elif population > 5000 :\n",
        "            rayon=rayon*4\n",
        "            folium.CircleMarker([latitude,longitude], tooltip = nom, radius = rayon,  color='green', fill_color = 'green' , fill_opacity = 0.2 ).add_to(carte_population)\n",
        "        elif population > 1000 :\n",
        "            rayon=rayon*4\n",
        "            folium.CircleMarker([latitude,longitude], tooltip = nom, radius = rayon,  color='orange', fill_color = 'orange' , fill_opacity = 0.2 ).add_to(carte_population)\n",
        "        elif population > 100:\n",
        "            rayon=rayon*10\n",
        "            folium.CircleMarker([latitude,longitude], tooltip = nom, radius = rayon,  color='pink', fill_color = 'pink' , fill_opacity = 0.2 ).add_to(carte_population)\n",
        "\n",
        "\n",
        "#affichage\n",
        "carte_population.save(\"pop_var2.html\")\n",
        "display(carte_population)\n",
        "\n"
      ],
      "execution_count": 0,
      "outputs": []
    },
    {
      "cell_type": "markdown",
      "metadata": {
        "id": "XgtrHEth6cdC",
        "colab_type": "text"
      },
      "source": [
        "# Utiliser les données EXIF d'une photo\n",
        "\n",
        "pour ce notebook\n",
        "\n",
        "On utilise la bibliothèque request ( pour le téléchargement de la photo)\n",
        "et io pour une lecture de l'image\n",
        "\n",
        "depuis :  http://isn-icn-ljm.pagesperso-orange.fr/photo/photo.jpg"
      ]
    },
    {
      "cell_type": "code",
      "metadata": {
        "id": "20s5TZUF_WQK",
        "colab_type": "code",
        "outputId": "a6854330-5c9e-4cdd-8afe-e3d4e14f3d3b",
        "colab": {
          "base_uri": "https://localhost:8080/",
          "height": 1106
        }
      },
      "source": [
        "#chargement des bibliothèques PIL et webbrowser\n",
        "from PIL import Image\n",
        "import webbrowser\n",
        "import folium\n",
        "import requests\n",
        "from io import BytesIO\n",
        "url=\" http://isn-icn-ljm.pagesperso-orange.fr/photo/photo.jpg\"\n",
        "response = requests.get(url)\n",
        "im = Image.open(BytesIO(response.content))\n",
        "#chargement de l'image ( même dossier que le programme)\n",
        "#im = Image.open( 'photo.jpg' )\n",
        "# chargement des données exif, c'est un dictionnaire les données gps sont à la clé 34853\n",
        "# repéré à l'aide de l'explorateur de variable de l'ide python\n",
        "exif_data = im._getexif()\n",
        "#chargement des données de la clé 34853\n",
        "# on crée un dictionnaire pour contenir les données GPS\n",
        "test={}\n",
        "test=exif_data[34853]\n",
        "# eplorer la variable test pour savoir comment elle est structurée\n",
        "# ce dico contient des listes\n",
        "# la latitude est à la clé 2 qui est une liste de tuples\n",
        "# le 1er tuple ( degré, 1) le second ( minute,1) le 3ème ( seconde,100)\n",
        "# on divise le 1er par le second et on transforme en degré\n",
        "lat_deg=test[2][0][0]/test[2][0][1]\n",
        "lat_min=test[2][1][0]/test[2][1][1]/60\n",
        "lat_sec=test[2][2][0]/test[2][2][1]/3600\n",
        "lat=lat_deg+lat_min+lat_sec\n",
        "print(lat)\n",
        "# idem\n",
        "lon_deg=test[4][0][0]/test[4][0][1]\n",
        "lon_min=test[4][1][0]/test[4][1][1]/60\n",
        "lon_sec=test[4][2][0]/test[4][2][1]/3600\n",
        "lon=lon_deg+lon_min+lon_sec\n",
        "print(lon)\n",
        "if test[3]=='W':\n",
        "    lon=-lon\n",
        "# on affiche le tout dans openstreetmap\n",
        "zoom='18'\n",
        "#webbrowser.open('https://www.openstreetmap.org/note/new?lat='+str(lat)+'&lon='+str(lon)+'#map='+zoom+'/'+str(lat)+'/'+str(lon))\n",
        "c= folium.Map(location=[lat, lon],zoom_start=zoom)\n",
        "folium.Marker([lat,  lon],popup=\"C'est ici ?\").add_to(c)\n",
        "\n",
        "\n",
        "display(c)\n",
        "\n"
      ],
      "execution_count": 11,
      "outputs": [
        {
          "output_type": "stream",
          "text": [
            "47.62475204444444\n",
            "3.4286046027777775\n"
          ],
          "name": "stdout"
        },
        {
          "output_type": "display_data",
          "data": {
            "text/html": [
              "<div style=\"width:100%;\"><div style=\"position:relative;width:100%;height:0;padding-bottom:60%;\"><iframe src=\"data:text/html;charset=utf-8;base64,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\" style=\"position:absolute;width:100%;height:100%;left:0;top:0;border:none !important;\" allowfullscreen webkitallowfullscreen mozallowfullscreen></iframe></div></div>"
            ],
            "text/plain": [
              "<folium.folium.Map at 0x7fd86bd497b8>"
            ]
          },
          "metadata": {
            "tags": []
          }
        }
      ]
    }
  ]
}