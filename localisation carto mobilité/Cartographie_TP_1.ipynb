{
 "cells": [
  {
   "cell_type": "markdown",
   "metadata": {},
   "source": [
    "# Cartographie TP 1"
   ]
  },
  {
   "cell_type": "markdown",
   "metadata": {},
   "source": [
    "<font color='red'> Écrire votre nom </font>"
   ]
  },
  {
   "cell_type": "markdown",
   "metadata": {},
   "source": [
    "*ici*"
   ]
  },
  {
   "cell_type": "markdown",
   "metadata": {},
   "source": [
    "## Faire afficher une carte du monde\n",
    "Pour cela nous avons besoin de la **bibliothèque folium**\n",
    "\n",
    "\n",
    "Si elle n'est pas déjà installée : il faut le faire avec la commande : *pip install folium*"
   ]
  },
  {
   "cell_type": "code",
   "execution_count": null,
   "metadata": {},
   "outputs": [],
   "source": [
    "#pip install folium"
   ]
  },
  {
   "cell_type": "code",
   "execution_count": null,
   "metadata": {},
   "outputs": [],
   "source": [
    "import folium\n",
    "zoom='3'\n",
    "lat=0\n",
    "lon=0\n",
    "#création de la carte centrée au point indiqué\n",
    "ma_carte1=folium.Map(location=[lat,lon],zoom_start=zoom)\n",
    "# ligne pour afficher un marqueur à l'endroit indiqué\n",
    "folium.Marker([lat,lon],popup=\"le point de coordonnées (0,0)\").add_to(ma_carte1)\n",
    "#ligne pour faire afficher la carte dans ce notebook\n",
    "display(ma_carte1)"
   ]
  },
  {
   "cell_type": "markdown",
   "metadata": {},
   "source": [
    "<hr>\n",
    "\n",
    "## À faire :\n",
    "**Faites afficher sur une carte le lieu dont les coordonnées sont : latitude = -12.780701  et longitude = 45.231619. Avec un zoom de 20 et un marqueur**\n",
    "\n",
    "\n"
   ]
  },
  {
   "cell_type": "code",
   "execution_count": null,
   "metadata": {},
   "outputs": [],
   "source": [
    "# Écrire le code ici\n"
   ]
  },
  {
   "cell_type": "markdown",
   "metadata": {},
   "source": [
    "### Avez vous identifié ce lieu ?\n",
    "\n",
    "Double cliquez dans cette cellule et inscrivez votre réponse :\n",
    "\n",
    "-----------------------\n",
    "\n",
    "**Réponse :** \n"
   ]
  },
  {
   "cell_type": "markdown",
   "metadata": {},
   "source": [
    "<hr>\n",
    "\n",
    "## À faire :\n",
    "\n",
    "**Faites afficher une carte centrée sur un lieu de votre choix.**\n",
    "\n",
    "**Récupérer ses coordonnées sur [Géoportail](https://www.geoportail.gouv.fr/)**\n",
    "\n",
    "**Vous y ajouterez un marqueur**"
   ]
  },
  {
   "cell_type": "code",
   "execution_count": null,
   "metadata": {},
   "outputs": [],
   "source": [
    "#Écrire le code ici"
   ]
  },
  {
   "cell_type": "markdown",
   "metadata": {},
   "source": [
    "<hr>\n",
    "\n",
    "## À faire :\n",
    "\n",
    "Faites afficher sur une seule carte( centrée en un point) plusieurs lieux :\n",
    "* Votre lycée\n",
    "* Votre lieu d'habitation\n",
    "* Un endroit que vous appréciez particulièrement\n",
    "* Le lieu de vos dernières vacances\n",
    "\n",
    "<font color='green'>Aide : il suffit de répliquer plusieurs fois la ligne qui fait afficher un marqueur</font>"
   ]
  },
  {
   "cell_type": "code",
   "execution_count": null,
   "metadata": {},
   "outputs": [],
   "source": [
    "#Écrire le code ici"
   ]
  },
  {
   "cell_type": "markdown",
   "metadata": {},
   "source": [
    "\n",
    "<hr>\n",
    "<font color='red'> Enregistrez ce travail sous le nom : cartographie_tp_1_votre_nom.ipynb et déposez le là où on vous le dira </font>\n",
    "\n",
    "### Pour enregistrer:\n",
    "\n",
    "1. File\n",
    "2. Save notebook as\n",
    "3. Pour le récupérer cliquez sur le dossier à gauche en haut...\n",
    "4. cliquez droit sur le fichier et download\n",
    "\n",
    "### Autre méthode \n",
    "\n",
    "Dans **home**\n",
    "sélectionnez le fichier et download \n",
    "\n"
   ]
  },
  {
   "cell_type": "code",
   "execution_count": null,
   "metadata": {},
   "outputs": [],
   "source": []
  }
 ],
 "metadata": {
  "kernelspec": {
   "display_name": "Python 3",
   "language": "python",
   "name": "python3"
  },
  "language_info": {
   "codemirror_mode": {
    "name": "ipython",
    "version": 3
   },
   "file_extension": ".py",
   "mimetype": "text/x-python",
   "name": "python",
   "nbconvert_exporter": "python",
   "pygments_lexer": "ipython3",
   "version": "3.7.2"
  }
 },
 "nbformat": 4,
 "nbformat_minor": 2
}
