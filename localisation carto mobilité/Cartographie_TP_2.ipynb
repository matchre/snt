{
 "cells": [
  {
   "cell_type": "markdown",
   "metadata": {},
   "source": [
    "# Cartographie TP 2"
   ]
  },
  {
   "cell_type": "markdown",
   "metadata": {},
   "source": [
    "<font color='red'> Écrire votre nom </font>"
   ]
  },
  {
   "cell_type": "markdown",
   "metadata": {},
   "source": [
    "*ici*"
   ]
  },
  {
   "cell_type": "markdown",
   "metadata": {},
   "source": [
    "## Faire afficher sur une carte un lieu à partir de son nom\n",
    "\n",
    "Nous aurons besoin de la **bibliothèque folium** (voir TP 1) pour la carte\n",
    "\n",
    "Et de la bibliothèque **geopy** qui permet de rechercher des coordonnées (latitude, longitude) à partir d'un nom de ville:\n",
    "\n",
    "Si elle n'est pas installée : pip install geopy \n",
    "\n",
    "Le code suivant réalise l'affichage d'un marqueur sur la ville de Draguignan(Var)"
   ]
  },
  {
   "cell_type": "code",
   "execution_count": null,
   "metadata": {},
   "outputs": [],
   "source": [
    "#pip install geopy"
   ]
  },
  {
   "cell_type": "code",
   "execution_count": null,
   "metadata": {},
   "outputs": [],
   "source": [
    "# =============================================================================\n",
    "# Utilisation de la bibliothèque geopy pour repérer\n",
    "# une ville par son nom sur une carte et la faire afficher\n",
    "# on utilise le geocoder ArcGIS ( il y en a d'autres) BANFrance, Nominatim\n",
    "# =============================================================================\n",
    "from geopy.geocoders import ArcGIS\n",
    "import folium\n",
    "# fonctionnel (sans clé api)\n",
    "geolocator = ArcGIS()\n",
    "zoom='18'\n",
    "\n",
    "#récupération des coordonnées de Draguignan\n",
    "location = geolocator.geocode(\"Draguignan\")\n",
    "#on fait afficher le résultat\n",
    "print(location.address)\n",
    "print(location.latitude, location.longitude)\n",
    "lat=location.latitude\n",
    "lon=location.longitude\n",
    "#création de la carte\n",
    "ma_carte2=folium.Map(location=[lat,lon],zoom_start=zoom)\n",
    "#ajout d'un marqueur\n",
    "texte=\"Draguignan\"\n",
    "folium.Marker([lat,lon],popup=texte,icon=folium.Icon(color='red')).add_to(ma_carte2)\n",
    "#affichage de la carte dans ce notebook\n",
    "display(ma_carte2)"
   ]
  },
  {
   "cell_type": "markdown",
   "metadata": {},
   "source": [
    "<hr>\n",
    "\n",
    "## À faire :\n",
    "\n",
    "**En créant deux variables location1 et location2, faites afficher deux marqueurs sur les villes de Draguignan et de Nice sur une carte**"
   ]
  },
  {
   "cell_type": "code",
   "execution_count": null,
   "metadata": {},
   "outputs": [],
   "source": [
    "#Écrire le code ici"
   ]
  },
  {
   "cell_type": "markdown",
   "metadata": {},
   "source": [
    "<hr>\n",
    "\n",
    "## À faire\n",
    "\n",
    "**Vous projettez un voyage de quelques jours, faites afficher sur une carte les différents lieux que vous souhaitez visiter**"
   ]
  },
  {
   "cell_type": "code",
   "execution_count": null,
   "metadata": {},
   "outputs": [],
   "source": [
    "#Écrire le code ici"
   ]
  },
  {
   "cell_type": "markdown",
   "metadata": {},
   "source": [
    "<hr>\n",
    "\n",
    "## Distance géodésique\n",
    "\n",
    "### Géodésique :\n",
    "\n",
    "**C'est une courbe tracée sur la sphère qui relie deux points en minimisant la longueur entre ces points.**\n",
    "\n",
    "### Distance géodésique\n",
    "\n",
    "**C'est donc la longueur de cette courbe**\n",
    "\n",
    "Le code ci-dessous calcule la distance géodésique entre Nice et Draguignan en miles"
   ]
  },
  {
   "cell_type": "code",
   "execution_count": 8,
   "metadata": {},
   "outputs": [
    {
     "name": "stdout",
     "output_type": "stream",
     "text": [
      "42.30793896539043  miles\n"
     ]
    }
   ],
   "source": [
    "#Import des bibliothèques\n",
    "from geopy.geocoders import ArcGIS\n",
    "from geopy.distance import geodesic\n",
    "# géolocalisation des lieux\n",
    "geolocator = ArcGIS()\n",
    "location1 = geolocator.geocode(\"Nice\")\n",
    "location2 = geolocator.geocode(\"Draguignan\")\n",
    "#affichages des coordonnées\n",
    "point1=(location1.latitude,location1.longitude)\n",
    "point2=(location2.latitude,location2.longitude)\n",
    "# affichage de la distance géodésique\n",
    "print(geodesic(point1,point2).miles,\" miles\")"
   ]
  },
  {
   "cell_type": "markdown",
   "metadata": {},
   "source": [
    "<hr>\n",
    "\n",
    "## À faire :\n",
    "\n",
    "* **Reprendre le code ci-dessus et faire en sorte que la distance soit affichée en km**\n",
    "\n",
    "* **Comparer le résultat à la distance réelle (à vol d'iseau) ( trouvée sur le web )**"
   ]
  },
  {
   "cell_type": "code",
   "execution_count": null,
   "metadata": {},
   "outputs": [],
   "source": [
    "#Écrire le code ici"
   ]
  },
  {
   "cell_type": "markdown",
   "metadata": {},
   "source": [
    "<hr>\n",
    "\n",
    "## À faire :\n",
    "\n",
    "* **Reprendre le code qui affiche votre voyage de quelques jours**\n",
    "\n",
    "* **Rajoutez ce qu'il faut pour faire afficher la distance en km parcourue lors de ce périple**"
   ]
  },
  {
   "cell_type": "code",
   "execution_count": null,
   "metadata": {},
   "outputs": [],
   "source": [
    "#Écrire le code ici"
   ]
  },
  {
   "cell_type": "markdown",
   "metadata": {},
   "source": [
    "\n",
    "<hr>\n",
    "<font color='red'> Enregistrez ce travail sous le nom : cartographie_tp_1_votre_nom.ipynb et déposez le là où on vous le dira </font>\n",
    "\n",
    "### Pour enregistrer:\n",
    "\n",
    "1. File\n",
    "2. Save notebook as\n",
    "3. Pour le récupérer cliquez sur le dossier à gauche en haut...\n",
    "4. cliquez droit sur le fichier et download\n",
    "\n",
    "### Autre méthode \n",
    "\n",
    "Dans **home**\n",
    "sélectionnez le fichier et download \n",
    "\n"
   ]
  }
 ],
 "metadata": {
  "kernelspec": {
   "display_name": "Python 3",
   "language": "python",
   "name": "python3"
  },
  "language_info": {
   "codemirror_mode": {
    "name": "ipython",
    "version": 3
   },
   "file_extension": ".py",
   "mimetype": "text/x-python",
   "name": "python",
   "nbconvert_exporter": "python",
   "pygments_lexer": "ipython3",
   "version": "3.7.2"
  }
 },
 "nbformat": 4,
 "nbformat_minor": 2
}
