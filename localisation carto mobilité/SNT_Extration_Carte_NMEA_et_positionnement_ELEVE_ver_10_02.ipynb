{
  "cells": [
    {
      "cell_type": "markdown",
      "source": [
        "# Extraction des coordonnées GPGGA d'une trame NMEA et positionnement sur une  carte avec la bibliothèque folium de Python"
      ],
      "metadata": {
        "id": "OViw0BEpGqeF",
        "colab_type": "text"
      }
    },
    {
      "cell_type": "markdown",
      "source": [
        "Les programmes présentés utilisent deux modules python, à installer une fois. \n",
        "Pour cela il faut exécuter les instructions :\n",
        "!pip install geopy\n",
        "et\n",
        "!pip install folium.\n",
        "Il suffit donc de \"décommenter\" les deux lignes ci-dessous (enlever les #), et d'exécuter la cellule."
      ],
      "metadata": {
        "id": "Ppo1xEeXGqeN",
        "colab_type": "text"
      }
    },
    {
      "cell_type": "code",
      "source": [
        "#!pip install geopy\n",
        "#!pip install folium"
      ],
      "outputs": [],
      "execution_count": 0,
      "metadata": {
        "id": "tzSOXqZIGqeU",
        "colab_type": "code",
        "colab": {}
      }
    },
    {
      "cell_type": "markdown",
      "source": [
        "## Partie 1 : Récupérons des coordonnées géographiques et une adresse à partir d'une trame GPGGA"
      ],
      "metadata": {
        "id": "0InCVwaRGqej",
        "colab_type": "text"
      }
    },
    {
      "cell_type": "markdown",
      "source": [
        "Les fonctions et démarches suivantes permettent d'obtenir **la latitude et la longitude** contenues dans une trame de type GPGGA (GPS). Nous allons procéder par étapes, et de visualiser les résultats "
      ],
      "metadata": {
        "id": "cnE3igD8Gqem",
        "colab_type": "text"
      }
    },
    {
      "cell_type": "code",
      "source": [
        "trame =\"$GPGGA,095039.00,4910.763194,N,00022.968045,W,1,18,0.6,53.4,M,47.8,M,,*4A\""
      ],
      "outputs": [],
      "execution_count": 0,
      "metadata": {
        "id": "Nv0Wxv2_Gqeq",
        "colab_type": "code",
        "colab": {}
      }
    },
    {
      "cell_type": "code",
      "source": [
        "# on crée une liste en coupant la trame à chaque virgule\n",
        "liste = trame.split(',')\n",
        "liste"
      ],
      "outputs": [],
      "execution_count": 0,
      "metadata": {
        "id": "u7fBSmzhGqez",
        "colab_type": "code",
        "colab": {}
      }
    },
    {
      "cell_type": "markdown",
      "source": [
        "##Exécutez le programme et expliquer son rôle"
      ],
      "metadata": {
        "id": "WO9s1FEzIZLg",
        "colab_type": "text"
      }
    },
    {
      "cell_type": "markdown",
      "source": [
        "##Quel est le rang de la donnée succeptible de contenir **la latitude ?**"
      ],
      "metadata": {
        "id": "St6rw7-GHNGj",
        "colab_type": "text"
      }
    },
    {
      "cell_type": "markdown",
      "source": [
        "###A quel terme dans la liste la donnée correspond t-elle ?( sachant que la numérotation commence par 0 ?"
      ],
      "metadata": {
        "id": "qRLpr6gvd6zq",
        "colab_type": "text"
      }
    },
    {
      "cell_type": "markdown",
      "source": [
        "Complète les lignes suivantes et éxécute-le programme !"
      ],
      "metadata": {
        "id": "Hzis3_c0eQuf",
        "colab_type": "text"
      }
    },
    {
      "cell_type": "code",
      "source": [
        "def latitude(listeGPGGA):\n",
        "    valeur = float(liste[.....])#troisième terme de la liste, donc d'indice .....\n",
        "    degre = int(valeur/100)\n",
        "    minutes = valeur%100 #conserve les chiffres à partir des dizaines vers la droite\n",
        "    if liste[3]=='N':\n",
        "        return degre + minutes/60 #latitude ..........., donc positive\n",
        "    else : \n",
        "        return -degre - minutes/60 #latitude ...........negative"
      ],
      "outputs": [],
      "execution_count": 0,
      "metadata": {
        "id": "ZAoANEpZGqe-",
        "colab_type": "code",
        "colab": {}
      }
    },
    {
      "cell_type": "markdown",
      "source": [
        "###Analyse du programme \n",
        "*    Que fait la ligne 3 ?\n",
        "*    Idem pour la ligne 4\n",
        "*    Expliquer la lettre N et le rapport avec le lignes suivantes "
      ],
      "metadata": {
        "id": "NFM5nwWRHvX1",
        "colab_type": "text"
      }
    },
    {
      "cell_type": "markdown",
      "source": [
        "##Quel est le rang de la données succeptible de contenir **la longitude ?** "
      ],
      "metadata": {
        "colab_type": "text",
        "id": "AGfeKyULHVqE"
      }
    },
    {
      "cell_type": "markdown",
      "source": [
        "###A quel terme dans la liste la donnée correspond t-elle ?( sachant que la numérotation commence par 0 ?"
      ],
      "metadata": {
        "id": "TD0WjIvqfHCi",
        "colab_type": "text"
      }
    },
    {
      "cell_type": "markdown",
      "source": [
        "Complète les lignes suivantes et éxécute-le programme !"
      ],
      "metadata": {
        "colab_type": "text",
        "id": "Xmjyi-dDee1j"
      }
    },
    {
      "cell_type": "code",
      "source": [
        "def longitude(listeGPGGA):\n",
        "    valeur = float(liste[.........])#cinquième terme de la liste, donc d'indice............\n",
        "    degre = int(valeur/100)\n",
        "    minutes = valeur%100 #conserve les chiffres à partir des dizaines vers la droite\n",
        "    if liste[5]=='E':\n",
        "        return degre + minutes/60 #longitude ......., donc ..............\n",
        "    else : \n",
        "        return -degre - minutes/60 #longitude ...........donc negative"
      ],
      "outputs": [],
      "execution_count": 0,
      "metadata": {
        "id": "5e__DJx1GqfJ",
        "colab_type": "code",
        "colab": {}
      }
    },
    {
      "cell_type": "markdown",
      "source": [
        "###Analyse du programme \n",
        "*    Que fait la ligne 3 ?\n",
        "*    Idem pour la ligne 4\n",
        "*    Expliquer la lettre N et le rapport avec le lignes suivantes "
      ],
      "metadata": {
        "colab_type": "text",
        "id": "KTvpqfk4Igdz"
      }
    },
    {
      "cell_type": "markdown",
      "source": [
        "## Affichons **la latitude et la longitude** "
      ],
      "metadata": {
        "colab_type": "text",
        "id": "bkd6qQntHd8F"
      }
    },
    {
      "cell_type": "code",
      "source": [
        "latitude = latitude(liste)\n",
        "longitude = longitude(liste)\n",
        "latitude, longitude"
      ],
      "outputs": [
        {
          "output_type": "execute_result",
          "execution_count": 7,
          "data": {
            "text/plain": [
              "(49.17938656666667, -0.38280075)"
            ]
          },
          "metadata": {
            "tags": []
          }
        }
      ],
      "execution_count": 0,
      "metadata": {
        "id": "_iVZjeoCGqfP",
        "colab_type": "code",
        "outputId": "15853812-a9bb-4980-8e5c-dc353f659d49",
        "colab": {
          "base_uri": "https://localhost:8080/",
          "height": 35
        }
      }
    },
    {
      "cell_type": "markdown",
      "source": [
        "##Le module **geopy** permet notamment de déterminer l'adresse d'un lieu repéré par ses coordonnées ( altitude , longitude) ."
      ],
      "metadata": {
        "id": "IbpKHLwFGqfW",
        "colab_type": "text"
      }
    },
    {
      "cell_type": "code",
      "source": [
        "from geopy.geocoders import Nominatim\n",
        "geocoder = Nominatim(user_agent=\"SNT\") # placer une chaine de caractères quelconque\n",
        "localisation = geocoder.reverse([latitude, longitude])\n",
        "localisation.address"
      ],
      "outputs": [
        {
          "output_type": "execute_result",
          "execution_count": 10,
          "data": {
            "text/plain": [
              "'Rectorat de Caen, 168, Rue Caponière, Le Beau Site, Bas de Venoix, Caen, Calvados, Normandie, France métropolitaine, 14000, France'"
            ]
          },
          "metadata": {
            "tags": []
          }
        }
      ],
      "execution_count": 0,
      "metadata": {
        "id": "vbsgL1zNGqfZ",
        "colab_type": "code",
        "outputId": "aa40db19-e802-4c0b-cc8a-2979f63b2d4c",
        "colab": {
          "base_uri": "https://localhost:8080/",
          "height": 35
        }
      }
    },
    {
      "cell_type": "markdown",
      "source": [
        "## Partie 2 : Plaçons un marqueur sur une carte avec folium"
      ],
      "metadata": {
        "id": "ahpuHlInGqfg",
        "colab_type": "text"
      }
    },
    {
      "cell_type": "markdown",
      "source": [
        "Ici, latitude et longitude ont des valeurs obtenues lors de la partie 1. On peut utiliser ce qui suit avec des coordonnées quelconques, en donnant des valeurs numériques aux variables latitude et longitude."
      ],
      "metadata": {
        "id": "KfWzPf8vGqfj",
        "colab_type": "text"
      }
    },
    {
      "cell_type": "code",
      "source": [
        "import folium\n",
        "carte = folium.Map(location=[latitude, longitude], zoom_start=14)\n",
        "folium.Marker([latitude, longitude], \n",
        "              popup=\"Rectorat\",\n",
        "              #icon=folium.Icon(color='red')\n",
        "             ).add_to(carte)\n",
        "\n",
        "#si l'on souhaite créer un fichier  html contenant la carte :\n",
        "#carte.save('maCarte.html')\n",
        "\n",
        "#si l'on souhaite afficher la carte dans le document jupyter : \n",
        "carte"
      ],
      "outputs": [],
      "execution_count": 0,
      "metadata": {
        "id": "ekRd1iluGqfk",
        "colab_type": "code",
        "colab": {}
      }
    },
    {
      "cell_type": "markdown",
      "source": [
        "##Appliquez les fonctions vues précédement pour zoomer et faire apparaitre un pop-up sur carte qui s'affichera et montrera un endroit choisi par tes soins !"
      ],
      "metadata": {
        "id": "QvzSGNm9JDkZ",
        "colab_type": "text"
      }
    },
    {
      "cell_type": "code",
      "source": [
        "\n\n\n\n\n\n\n\n\n\n\n\n\n\n\n\n\n\n"
      ],
      "outputs": [],
      "execution_count": 0,
      "metadata": {
        "id": "MIJZsEb4JObR",
        "colab_type": "code",
        "colab": {}
      }
    }
  ],
  "metadata": {
    "kernelspec": {
      "display_name": "Python 3",
      "language": "python",
      "name": "python3"
    },
    "language_info": {
      "codemirror_mode": {
        "name": "ipython",
        "version": 3
      },
      "file_extension": ".py",
      "mimetype": "text/x-python",
      "name": "python",
      "nbconvert_exporter": "python",
      "pygments_lexer": "ipython3",
      "version": "3.7.3"
    },
    "colab": {
      "name": "SNT Extration Carte NMEA et positionnement ELEVE ver 10/02.ipynb",
      "provenance": [],
      "collapsed_sections": []
    },
    "nteract": {
      "version": "0.2.0"
    }
  },
  "nbformat": 4,
  "nbformat_minor": 0
}