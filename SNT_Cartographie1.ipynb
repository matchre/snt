{
  "nbformat": 4,
  "nbformat_minor": 0,
  "metadata": {
    "colab": {
      "name": "SNT Cartographie1.ipynb",
      "provenance": []
    },
    "kernelspec": {
      "name": "python3",
      "display_name": "Python 3"
    }
  },
  "cells": [
    {
      "cell_type": "markdown",
      "metadata": {
        "id": "Ic01FbUTq_d9",
        "colab_type": "text"
      },
      "source": [
        "# importantissisme avant d'aller plus loin\n",
        "*dans le menu, aller dans Fichier , puis enregistrer une copie dans GoogleDrive*\n",
        "# puis une fois votre propre copie créée\n",
        "*dans le menu, aller dans Fichier , puis renommer en y rajoutant votre nom classe au nom de départ*"
      ]
    },
    {
      "cell_type": "markdown",
      "metadata": {
        "id": "og9OY5wFi_ee",
        "colab_type": "text"
      },
      "source": [
        "#  Pour Commencer "
      ]
    },
    {
      "cell_type": "code",
      "metadata": {
        "id": "ZVgz_Zr2gy-f",
        "colab_type": "code",
        "outputId": "eb0f97bc-098c-49c9-9c71-1d3462c2e1a0",
        "colab": {
          "base_uri": "https://localhost:8080/",
          "height": 394
        }
      },
      "source": [
        "#pour executer le code cliquer sur le petit triangle à droite\n",
        "import folium\n",
        "c= folium.Map(location=[50.6251183,3.1306353],zoom_start=18)\n",
        "c.save(\"maCarte.html\")\n",
        "c"
      ],
      "execution_count": 0,
      "outputs": [
        {
          "output_type": "execute_result",
          "data": {
            "text/html": [
              "<div style=\"width:100%;\"><div style=\"position:relative;width:100%;height:0;padding-bottom:60%;\"><iframe src=\"about:blank\" style=\"position:absolute;width:100%;height:100%;left:0;top:0;border:none !important;\" data-html=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 onload=\"this.contentDocument.open();this.contentDocument.write(atob(this.getAttribute('data-html')));this.contentDocument.close();\" allowfullscreen webkitallowfullscreen mozallowfullscreen></iframe></div></div>"
            ],
            "text/plain": [
              "<folium.folium.Map at 0x7fa274c2a710>"
            ]
          },
          "metadata": {
            "tags": []
          },
          "execution_count": 38
        }
      ]
    },
    {
      "cell_type": "markdown",
      "metadata": {
        "id": "tXPx9aQLhAph",
        "colab_type": "text"
      },
      "source": [
        "**question 1** : Que s’est-il passé ?"
      ]
    },
    {
      "cell_type": "markdown",
      "metadata": {
        "id": "Q51ovkyshs_U",
        "colab_type": "text"
      },
      "source": [
        "**réponse** cliquez et répondez"
      ]
    },
    {
      "cell_type": "markdown",
      "metadata": {
        "id": "HwopHV1ssrjT",
        "colab_type": "text"
      },
      "source": [
        "Remarque :\n",
        "en allant dans cliquant sur l'icone fichier à gauche vous verrez la carte sauvegarder au format html et donc publiable sur votre site web."
      ]
    },
    {
      "cell_type": "markdown",
      "metadata": {
        "id": "1yhWGtsriEUX",
        "colab_type": "text"
      },
      "source": [
        "**question 2** : Modifier la valeur zoom_start=10  ; quel est l’effet obtenu ? (pour visualiser, il suffit de rafraîchir la page web en faisant F5 par exemple)"
      ]
    },
    {
      "cell_type": "markdown",
      "metadata": {
        "colab_type": "text",
        "id": "4IAoWC3Fifwf"
      },
      "source": [
        "**réponse** cliquez et répondez"
      ]
    },
    {
      "cell_type": "markdown",
      "metadata": {
        "id": "lxBbNiq8iEMs",
        "colab_type": "text"
      },
      "source": [
        "**question 3** : En recherchant les coordonnées (latitude, longitude) du Mont-Blanc, faites un travail similaire pour obtenir une page ouvrant sur une carte centrée sur le Mont-Blanc, avec un zoom régler sur 10."
      ]
    },
    {
      "cell_type": "code",
      "metadata": {
        "id": "XoSz10eHjlVK",
        "colab_type": "code",
        "colab": {}
      },
      "source": [
        "#votre code réponse"
      ],
      "execution_count": 0,
      "outputs": []
    },
    {
      "cell_type": "markdown",
      "metadata": {
        "id": "rMAuBoFEjaxZ",
        "colab_type": "text"
      },
      "source": [
        "# Marqueurs"
      ]
    },
    {
      "cell_type": "code",
      "metadata": {
        "id": "yd6Utjx7jn8m",
        "colab_type": "code",
        "outputId": "aa6530cf-c28f-4aa9-8e83-5cf63c57a5c1",
        "colab": {
          "base_uri": "https://localhost:8080/",
          "height": 394
        }
      },
      "source": [
        "#On peut avoir envie d’ajouter des marqueurs ; compiler ce code :\n",
        "\n",
        "import folium\n",
        "c= folium.Map(location=[50.6251183,3.1306353],zoom_start=20)\n",
        "folium.Marker([50.6251183,3.1306353], popup=\"place Blum\").add_to(c)\n",
        "c"
      ],
      "execution_count": 0,
      "outputs": [
        {
          "output_type": "execute_result",
          "data": {
            "text/html": [
              "<div style=\"width:100%;\"><div style=\"position:relative;width:100%;height:0;padding-bottom:60%;\"><iframe src=\"about:blank\" style=\"position:absolute;width:100%;height:100%;left:0;top:0;border:none !important;\" data-html=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 onload=\"this.contentDocument.open();this.contentDocument.write(atob(this.getAttribute('data-html')));this.contentDocument.close();\" allowfullscreen webkitallowfullscreen mozallowfullscreen></iframe></div></div>"
            ],
            "text/plain": [
              "<folium.folium.Map at 0x7fa274bdd518>"
            ]
          },
          "metadata": {
            "tags": []
          },
          "execution_count": 40
        }
      ]
    },
    {
      "cell_type": "markdown",
      "metadata": {
        "id": "qq1pPXTqjtft",
        "colab_type": "text"
      },
      "source": [
        "**question 4** : Que se passe-t-il ?"
      ]
    },
    {
      "cell_type": "markdown",
      "metadata": {
        "colab_type": "text",
        "id": "8ll5duW2iuDi"
      },
      "source": [
        "**réponse** cliquez et répondez"
      ]
    },
    {
      "cell_type": "code",
      "metadata": {
        "id": "O7Z6zdOXj3ik",
        "colab_type": "code",
        "outputId": "ff326f3f-7dc0-44c6-a258-a76d8030b0a9",
        "colab": {
          "base_uri": "https://localhost:8080/",
          "height": 394
        }
      },
      "source": [
        "#On peut changer le type de marqueur ainsi que sa couleur en ajoutant des paramètres comme dans cet exemple :\n",
        "\n",
        "folium.Marker([50.6251183,3.1306353],\n",
        "              popup=\"place Blum\",\n",
        "              icon=folium.Icon(icon='home', prefix=\"fa\", color='red')\n",
        "              ).add_to(c)\n",
        "c"
      ],
      "execution_count": 0,
      "outputs": [
        {
          "output_type": "execute_result",
          "data": {
            "text/html": [
              "<div style=\"width:100%;\"><div style=\"position:relative;width:100%;height:0;padding-bottom:60%;\"><iframe src=\"about:blank\" style=\"position:absolute;width:100%;height:100%;left:0;top:0;border:none !important;\" data-html=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 onload=\"this.contentDocument.open();this.contentDocument.write(atob(this.getAttribute('data-html')));this.contentDocument.close();\" allowfullscreen webkitallowfullscreen mozallowfullscreen></iframe></div></div>"
            ],
            "text/plain": [
              "<folium.folium.Map at 0x7fa274bdd518>"
            ]
          },
          "metadata": {
            "tags": []
          },
          "execution_count": 41
        }
      ]
    },
    {
      "cell_type": "markdown",
      "metadata": {
        "id": "XAA8SY6yloX8",
        "colab_type": "text"
      },
      "source": [
        "**question 5** : Faites différents essais en modifiant le symbole et sa couleur.\n",
        "\n",
        "les couleurs possibles\n",
        "’red’, ’blue’, ’green’, ’purple’, ’orange’, ’darkred’, ’lightred’, ’beige’, ’darkblue’, ’darkgreen’, ’cadetblue’, ’darkpurple’, ’white’, ’pink’, ’lightblue’, ’lightgreen’, ’gray’, ’black’, ’lightgray’\n",
        "\n",
        "\n",
        "des icones\n",
        "’home’, ’glass’, ’flag’, ’star’, ’bookmark’, ’info-sign’, ’cloud’, ’ambulance’"
      ]
    },
    {
      "cell_type": "code",
      "metadata": {
        "id": "4p88qqEdlvH0",
        "colab_type": "code",
        "colab": {}
      },
      "source": [
        "#votre code\n"
      ],
      "execution_count": 0,
      "outputs": []
    },
    {
      "cell_type": "markdown",
      "metadata": {
        "colab_type": "text",
        "id": "No9AmSeziftF"
      },
      "source": [
        "# Liste"
      ]
    },
    {
      "cell_type": "markdown",
      "metadata": {
        "id": "VFziNu_WiD4f",
        "colab_type": "text"
      },
      "source": [
        "S’il on veut pointer plusieurs lieux avec des marqueurs différents, on peut recopier plusieurs fois le code précédent en indiquant les paramètres voulus (longitude, latitude, type d’icône, couleur de l’icône) mais ce sera très long et répétitif.\n",
        "\n",
        "On présente ici une méthode utilisant une liste :\n",
        "\n",
        "une liste pour les latitudes\n",
        "une liste pour les longitudes\n",
        "une liste pour les types d’icône\n",
        "une liste pour la couleur\n",
        "par exemple, si on veut saisir 4 points, on aura des listes du type :\n",
        "lat=[50.6251183, 50.6802124 , 50.620697021484375, 50.6540895]\n",
        "long=[3.1306353, 3.1564365, 3.131497621536255, 3.1839429]\n",
        "nom_lieu=['Lille', 'Croix', 'Villeneuve d'Ascq, 'Hem']\n",
        "col=['green', 'blue' ,'red', 'gray']"
      ]
    },
    {
      "cell_type": "markdown",
      "metadata": {
        "colab_type": "text",
        "id": "Xec1lMXDifaW"
      },
      "source": [
        "**question 6** : choisir 4 lieux autour du Lycée (si vous le souhaitez, les coordonnées données précédemment) sur lesquels on placera une icône en forme de bicyclette avec 4 couleurs différentes par la méthode de parcours d’une liste."
      ]
    },
    {
      "cell_type": "code",
      "metadata": {
        "id": "--5JczQ1qYvW",
        "colab_type": "code",
        "outputId": "4f385d75-0381-4dbe-beb6-adfb4cfbe289",
        "colab": {
          "base_uri": "https://localhost:8080/",
          "height": 394
        }
      },
      "source": [
        "import folium\n",
        "\n",
        "lat=[50.6251183, 50.6802124 , 50.620697021484375, 50.6540895]\n",
        "long=[3.06353, 3.1564365, 3.131497621536255, 3.1839429]\n",
        "nom_lieu=['Lille', 'Croix', 'Villeneuve dAscq', 'Hem']\n",
        "col=['green', 'blue' ,'red', 'gray']\n",
        "c= folium.Map(location=[50.6251183,3.1306353],zoom_start=11)\n",
        "for i in range(4):\n",
        "   folium.Marker([lat[i], long[i]],popup=nom_lieu[i],icon=folium.Icon(icon=\"bicycle\", prefix=\"fa\", color=col[i])).add_to(c)\n",
        "c"
      ],
      "execution_count": 0,
      "outputs": [
        {
          "output_type": "execute_result",
          "data": {
            "text/html": [
              "<div style=\"width:100%;\"><div style=\"position:relative;width:100%;height:0;padding-bottom:60%;\"><iframe src=\"about:blank\" style=\"position:absolute;width:100%;height:100%;left:0;top:0;border:none !important;\" data-html=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 onload=\"this.contentDocument.open();this.contentDocument.write(atob(this.getAttribute('data-html')));this.contentDocument.close();\" allowfullscreen webkitallowfullscreen mozallowfullscreen></iframe></div></div>"
            ],
            "text/plain": [
              "<folium.folium.Map at 0x7fa274c16208>"
            ]
          },
          "metadata": {
            "tags": []
          },
          "execution_count": 42
        }
      ]
    },
    {
      "cell_type": "markdown",
      "metadata": {
        "id": "xbVsWS_5mOMR",
        "colab_type": "text"
      },
      "source": [
        "# import"
      ]
    },
    {
      "cell_type": "markdown",
      "metadata": {
        "id": "sCV0-PUYmTJk",
        "colab_type": "text"
      },
      "source": [
        "On peut faire beaucoup mieux que précédemment ! Imaginez que vous ayez envie de saisir des dizaines de points ... il sera bien plus pratique de les saisir dans un fichier annexe et de l’importer ; voici un modèle reprenant un cas similaire au précédent.\n",
        "\n",
        "document en .csv\n",
        "Enregistrez ce qui suit dans un éditeur de texte (Notepaad++ ou bloc note) et enregistrez-le dans le même dossier que votre programme en cours.\n",
        "\n",
        "Bien penser à indiquer l’extension .csv\n",
        "\n",
        "*Lieu,Latitude,Longitude,Icon,Color\n",
        "\n",
        "Lille,50.6251183,3.06353,bicycle,green\n",
        "\n",
        "Croix,50.6802124,3.1564365,bicycle,blue\n",
        "\n",
        "Villeneuve,50.620697021484375,3.131497621536255,bicycle,red\n",
        "\n",
        "Hem, 50.6540895,3.1839429,bicycle,gray *\n",
        "\n",
        "\n",
        "On peut ensuite, grâce à une fonction de la bibliothèque pandas importer ces données ; par exemple data.iloc[i,0] importe la ième ligne de la 1ère colonne (indexée à 0).\n",
        "Ce qui est importé est considéré comme une chaîne de caractères (ce qui convient ici pour la première colonne qui correspond aux lieux)\n",
        "\n",
        "Pour la seconde colonne qui donne la latitude, il faudra forcer l’import à retourner un nombre ’flottant’ par float(data.iloc[i,1])"
      ]
    },
    {
      "cell_type": "markdown",
      "metadata": {
        "id": "mxxzBSwtm_sM",
        "colab_type": "text"
      },
      "source": [
        "**question 7** : adapter le code précédent avec les informations précédents pour utiliser le fichier .cvs et l’importer."
      ]
    },
    {
      "cell_type": "code",
      "metadata": {
        "id": "5S8H55m3mJdt",
        "colab_type": "code",
        "outputId": "f4f0fe26-af81-44d6-a70c-4db9413ce50c",
        "colab": {
          "base_uri": "https://localhost:8080/",
          "height": 394
        }
      },
      "source": [
        "# votre code\n",
        "import folium\n",
        "import pandas#pour traiter les données\n",
        "data=pandas.read_csv('/content/carto.csv',sep=',')#import des données\n",
        "d= folium.Map(location=[50.620697021484375,3.131497621536255],zoom_start=11)\n",
        "\n",
        "for i in range(data.shape[0]):#nombre de lignes\n",
        "   nom_lieu=data.iloc[i,0]\n",
        "   lat=float(data.iloc[i,1])\n",
        "   long=float(data.iloc[i,2])\n",
        "   icone=data.iloc[i,3]\n",
        "   col=data.iloc[i,4]\n",
        "   folium.Marker([lat, long], popup=nom_lieu, icon=folium.Icon(icon=icone, prefix=\"fa\", color=col)).add_to(d)\n",
        "d"
      ],
      "execution_count": 0,
      "outputs": [
        {
          "output_type": "execute_result",
          "data": {
            "text/html": [
              "<div style=\"width:100%;\"><div style=\"position:relative;width:100%;height:0;padding-bottom:60%;\"><iframe src=\"about:blank\" style=\"position:absolute;width:100%;height:100%;left:0;top:0;border:none !important;\" data-html=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 onload=\"this.contentDocument.open();this.contentDocument.write(atob(this.getAttribute('data-html')));this.contentDocument.close();\" allowfullscreen webkitallowfullscreen mozallowfullscreen></iframe></div></div>"
            ],
            "text/plain": [
              "<folium.folium.Map at 0x7fa274b43438>"
            ]
          },
          "metadata": {
            "tags": []
          },
          "execution_count": 49
        }
      ]
    },
    {
      "cell_type": "markdown",
      "metadata": {
        "id": "INZpTrg4iDr_",
        "colab_type": "text"
      },
      "source": [
        "**Des idées :**\n",
        "\n",
        "* proposer un parcours thématique à Villeneuve D'Ascq ou dans votre lieu de vie avec des indications.\n",
        "\n",
        "* faites une cartographie de vos amis et/ou famille en incluant un code couleur et des indications."
      ]
    }
  ]
}